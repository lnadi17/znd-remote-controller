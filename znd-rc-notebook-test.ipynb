{
 "cells": [
  {
   "cell_type": "code",
   "execution_count": 8,
   "id": "worse-pledge",
   "metadata": {},
   "outputs": [],
   "source": [
    "from Instrument import Instrument\n",
    "import string\n",
    "import random\n",
    "import Types\n",
    "from time import sleep"
   ]
  },
  {
   "cell_type": "markdown",
   "id": "absolute-appointment",
   "metadata": {},
   "source": [
    "# This notebook is used for testing ZND-RC functionality"
   ]
  },
  {
   "cell_type": "markdown",
   "id": "cutting-manchester",
   "metadata": {},
   "source": [
    "## Connection"
   ]
  },
  {
   "cell_type": "code",
   "execution_count": 9,
   "id": "alternative-advocacy",
   "metadata": {},
   "outputs": [
    {
     "name": "stdout",
     "output_type": "stream",
     "text": [
      "\n",
      "Hello, I am: 'Rohde-Schwarz,ZND-2Port,1328517092100889,2.80'\n",
      "RsInstrument driver version: 1.9.0.52\n",
      "Visa manufacturer: Rohde & Schwarz GmbH\n",
      "Instrument full name: ZND-2Port\n",
      "Instrument installed options: K1,K6\n"
     ]
    }
   ],
   "source": [
    "resource_string = 'TCPIP::192.168.0.169::hislip0'\n",
    "instrument = Instrument(resource_string)\n",
    "instrument.greet()"
   ]
  },
  {
   "cell_type": "markdown",
   "id": "freelance-handle",
   "metadata": {},
   "source": [
    "## Instrument Settings"
   ]
  },
  {
   "cell_type": "code",
   "execution_count": null,
   "id": "delayed-george",
   "metadata": {},
   "outputs": [],
   "source": [
    "instrument.reset()"
   ]
  },
  {
   "cell_type": "code",
   "execution_count": null,
   "id": "several-treasury",
   "metadata": {},
   "outputs": [],
   "source": [
    "instrument.set_visa_timeout = 3000"
   ]
  },
  {
   "cell_type": "code",
   "execution_count": null,
   "id": "blocked-inflation",
   "metadata": {},
   "outputs": [],
   "source": [
    "instrument.set_status_checking = True"
   ]
  },
  {
   "cell_type": "markdown",
   "id": "circular-desktop",
   "metadata": {},
   "source": [
    "## Correction"
   ]
  },
  {
   "cell_type": "code",
   "execution_count": null,
   "id": "inside-surname",
   "metadata": {},
   "outputs": [],
   "source": [
    "instrument.correction_load(1, 'N.cal')"
   ]
  },
  {
   "cell_type": "code",
   "execution_count": null,
   "id": "resistant-filter",
   "metadata": {},
   "outputs": [],
   "source": [
    "instrument.correction_state()"
   ]
  },
  {
   "cell_type": "markdown",
   "id": "dress-bench",
   "metadata": {},
   "source": [
    "## Sweep"
   ]
  },
  {
   "cell_type": "code",
   "execution_count": null,
   "id": "understood-matrix",
   "metadata": {},
   "outputs": [],
   "source": [
    "instrument.sweep_set_mode(1, Types.SweepMode.CONTINUOUS)"
   ]
  },
  {
   "cell_type": "code",
   "execution_count": null,
   "id": "directed-transfer",
   "metadata": {},
   "outputs": [],
   "source": [
    "instrument.sweep_set_mode_all(Types.SweepMode.SINGLE)"
   ]
  },
  {
   "cell_type": "code",
   "execution_count": null,
   "id": "piano-inspection",
   "metadata": {},
   "outputs": [],
   "source": [
    "instrument.sweep_initiate(1)"
   ]
  },
  {
   "cell_type": "code",
   "execution_count": null,
   "id": "overhead-politics",
   "metadata": {},
   "outputs": [],
   "source": [
    "instrument.sweep_initiate_all()"
   ]
  },
  {
   "cell_type": "markdown",
   "id": "appropriate-audio",
   "metadata": {},
   "source": [
    "## Traces"
   ]
  },
  {
   "cell_type": "code",
   "execution_count": null,
   "id": "imposed-female",
   "metadata": {},
   "outputs": [],
   "source": [
    "instrument.trace_create(1, 'MainTrace', 'S11')"
   ]
  },
  {
   "cell_type": "code",
   "execution_count": null,
   "id": "fundamental-cooperation",
   "metadata": {},
   "outputs": [],
   "source": [
    "instrument.trace_assign_to_window(1, 2, 'MainTrace')"
   ]
  },
  {
   "cell_type": "code",
   "execution_count": null,
   "id": "temporal-healing",
   "metadata": {},
   "outputs": [],
   "source": [
    "instrument.trace_rename(2, 'MainTraceRenamed')"
   ]
  },
  {
   "cell_type": "code",
   "execution_count": null,
   "id": "incorrect-attitude",
   "metadata": {},
   "outputs": [],
   "source": [
    "instrument.trace_set_points(1, 1000)"
   ]
  },
  {
   "cell_type": "code",
   "execution_count": null,
   "id": "insured-inclusion",
   "metadata": {},
   "outputs": [],
   "source": [
    "instrument.sweep_initiate_all()"
   ]
  },
  {
   "cell_type": "code",
   "execution_count": null,
   "id": "literary-fiction",
   "metadata": {},
   "outputs": [],
   "source": [
    "instrument.trace_copy('MemoryTrace', 'MainTraceRenamed')"
   ]
  },
  {
   "cell_type": "code",
   "execution_count": null,
   "id": "standing-yemen",
   "metadata": {},
   "outputs": [],
   "source": [
    "instrument.trace_assign_to_window(1, 3, 'MemoryTrace')"
   ]
  },
  {
   "cell_type": "code",
   "execution_count": null,
   "id": "regulated-builder",
   "metadata": {},
   "outputs": [],
   "source": [
    "# generate save path of all traces\n",
    "random_name = ''.join(random.choice(string.ascii_lowercase) for i in range(10)) \n",
    "save_path = r'C:\\Users\\Instrument\\Desktop\\test\\{}.dat'.format(random_name)\n",
    "# wait for a second \n",
    "# manual waiting like this should be avoided, instead, make sure trace is complete by initiating sweep\n",
    "instrument.trace_save_all(1, save_path, \n",
    "                           formatted=True, \n",
    "                           save_format=Types.SaveFormat.COMPLEX, \n",
    "                           dec_separator=Types.DecimalSeparator.POINT, \n",
    "                           field_separator=Types.FieldSeparator.SEMICOLON)"
   ]
  },
  {
   "cell_type": "markdown",
   "id": "social-mailman",
   "metadata": {},
   "source": [
    "## Display"
   ]
  },
  {
   "cell_type": "code",
   "execution_count": null,
   "id": "surgical-liverpool",
   "metadata": {
    "scrolled": true
   },
   "outputs": [],
   "source": [
    "instrument.display_set_mode(Types.DisplayMode.OFF)"
   ]
  },
  {
   "cell_type": "code",
   "execution_count": null,
   "id": "moderate-western",
   "metadata": {},
   "outputs": [],
   "source": [
    "instrument.display_set_mode(Types.DisplayMode.ON)"
   ]
  },
  {
   "cell_type": "markdown",
   "id": "cooked-dutch",
   "metadata": {},
   "source": [
    "## Touchscreen"
   ]
  },
  {
   "cell_type": "code",
   "execution_count": null,
   "id": "corresponding-statement",
   "metadata": {},
   "outputs": [],
   "source": [
    "instrument.touchscreen_set_lock(Types.TSLockMode.OFF)"
   ]
  },
  {
   "cell_type": "code",
   "execution_count": null,
   "id": "resistant-jersey",
   "metadata": {},
   "outputs": [],
   "source": [
    "instrument.window_create(2)"
   ]
  },
  {
   "cell_type": "code",
   "execution_count": null,
   "id": "indonesian-western",
   "metadata": {},
   "outputs": [],
   "source": [
    "instrument.window_remove(2)"
   ]
  },
  {
   "cell_type": "markdown",
   "id": "verified-tribute",
   "metadata": {},
   "source": [
    "## Buttons"
   ]
  },
  {
   "cell_type": "code",
   "execution_count": null,
   "id": "referenced-manufacturer",
   "metadata": {},
   "outputs": [],
   "source": [
    "instrument.button_define(Types.ButtonNumber.ONE, \"Say Hello\", lambda: print(\"Hello World!\"))\n",
    "instrument.button_define(Types.ButtonNumber.TWO, \"Say Bye\", lambda: print(\"Bye World!\"))"
   ]
  },
  {
   "cell_type": "code",
   "execution_count": null,
   "id": "impressive-championship",
   "metadata": {},
   "outputs": [],
   "source": [
    "# pressing \"Say Hello\" button on the touchscreen will print \"Hello World!\" here\n",
    "# pressing \"Say Bye\" button on the touchscreen will print \"Bye World!\" here\n",
    "instrument.button_start_listening()"
   ]
  },
  {
   "cell_type": "code",
   "execution_count": null,
   "id": "entertaining-massage",
   "metadata": {},
   "outputs": [],
   "source": [
    "instrument.button_stop_listening()"
   ]
  },
  {
   "cell_type": "markdown",
   "id": "increased-breakfast",
   "metadata": {},
   "source": [
    "## Transferring Files"
   ]
  },
  {
   "cell_type": "code",
   "execution_count": null,
   "id": "combined-throat",
   "metadata": {},
   "outputs": [],
   "source": [
    "# instrument.transfer_to_instrument(source, destination)"
   ]
  },
  {
   "cell_type": "code",
   "execution_count": 15,
   "id": "persistent-stable",
   "metadata": {},
   "outputs": [
    {
     "ename": "UnexpectedResponseException",
     "evalue": "Expected binary data header starting with #(hash), received data '\\n'",
     "output_type": "error",
     "traceback": [
      "\u001b[1;31m---------------------------------------------------------------------------\u001b[0m",
      "\u001b[1;31mUnexpectedResponseException\u001b[0m               Traceback (most recent call last)",
      "\u001b[1;32m<ipython-input-15-684e1de59539>\u001b[0m in \u001b[0;36m<module>\u001b[1;34m\u001b[0m\n\u001b[1;32m----> 1\u001b[1;33m \u001b[0minstrument\u001b[0m\u001b[1;33m.\u001b[0m\u001b[0mtransfer_from_instrument\u001b[0m\u001b[1;33m(\u001b[0m\u001b[1;34mr'C:\\Users\\Instrument\\Desktop\\Data'\u001b[0m\u001b[1;33m,\u001b[0m \u001b[1;34mr\"C:\\Users\\lnadi\\Documents\\GitHub\\znd-remote-controller\\New\"\u001b[0m\u001b[1;33m)\u001b[0m\u001b[1;33m\u001b[0m\u001b[1;33m\u001b[0m\u001b[0m\n\u001b[0m",
      "\u001b[1;32m~\\Documents\\GitHub\\znd-remote-controller\\Instrument.py\u001b[0m in \u001b[0;36mtransfer_from_instrument\u001b[1;34m(self, source, destination, append_to_destination)\u001b[0m\n\u001b[0;32m    139\u001b[0m     \u001b[1;31m# Transferring Files\u001b[0m\u001b[1;33m\u001b[0m\u001b[1;33m\u001b[0m\u001b[1;33m\u001b[0m\u001b[0m\n\u001b[0;32m    140\u001b[0m     \u001b[1;32mdef\u001b[0m \u001b[0mtransfer_from_instrument\u001b[0m\u001b[1;33m(\u001b[0m\u001b[0mself\u001b[0m\u001b[1;33m,\u001b[0m \u001b[0msource\u001b[0m\u001b[1;33m,\u001b[0m \u001b[0mdestination\u001b[0m\u001b[1;33m,\u001b[0m \u001b[0mappend_to_destination\u001b[0m\u001b[1;33m=\u001b[0m\u001b[1;32mFalse\u001b[0m\u001b[1;33m)\u001b[0m\u001b[1;33m:\u001b[0m\u001b[1;33m\u001b[0m\u001b[1;33m\u001b[0m\u001b[0m\n\u001b[1;32m--> 141\u001b[1;33m         \u001b[0mself\u001b[0m\u001b[1;33m.\u001b[0m\u001b[0minstr\u001b[0m\u001b[1;33m.\u001b[0m\u001b[0mread_file_from_instrument_to_pc\u001b[0m\u001b[1;33m(\u001b[0m\u001b[0msource\u001b[0m\u001b[1;33m,\u001b[0m \u001b[0mdestination\u001b[0m\u001b[1;33m,\u001b[0m \u001b[0mappend_to_destination\u001b[0m\u001b[1;33m)\u001b[0m\u001b[1;33m\u001b[0m\u001b[1;33m\u001b[0m\u001b[0m\n\u001b[0m\u001b[0;32m    142\u001b[0m \u001b[1;33m\u001b[0m\u001b[0m\n\u001b[0;32m    143\u001b[0m     \u001b[1;32mdef\u001b[0m \u001b[0mtransfer_to_instrument\u001b[0m\u001b[1;33m(\u001b[0m\u001b[0mself\u001b[0m\u001b[1;33m,\u001b[0m \u001b[0msource\u001b[0m\u001b[1;33m,\u001b[0m \u001b[0mdestination\u001b[0m\u001b[1;33m)\u001b[0m\u001b[1;33m:\u001b[0m\u001b[1;33m\u001b[0m\u001b[1;33m\u001b[0m\u001b[0m\n",
      "\u001b[1;32mc:\\users\\lnadi\\appdata\\local\\programs\\python\\python38\\lib\\site-packages\\RsInstrument\\RsInstrument.py\u001b[0m in \u001b[0;36mread_file_from_instrument_to_pc\u001b[1;34m(self, source_instr_file, target_pc_file, append_to_pc_file)\u001b[0m\n\u001b[0;32m    409\u001b[0m \t\tSet the append_to_pc_file to True if you want to append the read content to the end of the existing PC file\"\"\"\n\u001b[0;32m    410\u001b[0m                 \u001b[0mcmd\u001b[0m \u001b[1;33m=\u001b[0m \u001b[1;34mf\"MMEM:DATA? '{source_instr_file}'\"\u001b[0m\u001b[1;33m\u001b[0m\u001b[1;33m\u001b[0m\u001b[0m\n\u001b[1;32m--> 411\u001b[1;33m                 \u001b[0mself\u001b[0m\u001b[1;33m.\u001b[0m\u001b[0mquery_bin_block_to_file\u001b[0m\u001b[1;33m(\u001b[0m\u001b[0mcmd\u001b[0m\u001b[1;33m,\u001b[0m \u001b[0mtarget_pc_file\u001b[0m\u001b[1;33m,\u001b[0m \u001b[0mappend_to_pc_file\u001b[0m\u001b[1;33m)\u001b[0m\u001b[1;33m\u001b[0m\u001b[1;33m\u001b[0m\u001b[0m\n\u001b[0m\u001b[0;32m    412\u001b[0m \u001b[1;33m\u001b[0m\u001b[0m\n\u001b[0;32m    413\u001b[0m         \u001b[1;32mdef\u001b[0m \u001b[0mget_last_sent_cmd\u001b[0m\u001b[1;33m(\u001b[0m\u001b[0mself\u001b[0m\u001b[1;33m)\u001b[0m \u001b[1;33m->\u001b[0m \u001b[0mstr\u001b[0m\u001b[1;33m:\u001b[0m\u001b[1;33m\u001b[0m\u001b[1;33m\u001b[0m\u001b[0m\n",
      "\u001b[1;32mc:\\users\\lnadi\\appdata\\local\\programs\\python\\python38\\lib\\site-packages\\RsInstrument\\RsInstrument.py\u001b[0m in \u001b[0;36mquery_bin_block_to_file\u001b[1;34m(self, cmd, file_path, append)\u001b[0m\n\u001b[0;32m    380\u001b[0m                 \u001b[1;33m-\u001b[0m \u001b[0msend_file_from_pc_to_instrument\u001b[0m \u001b[1;33m(\u001b[0m\u001b[1;33m)\u001b[0m\u001b[1;33m\u001b[0m\u001b[1;33m\u001b[0m\u001b[0m\n\u001b[0;32m    381\u001b[0m \t\t- read_file_from_instrument_to_pc ()\"\"\"\n\u001b[1;32m--> 382\u001b[1;33m                 \u001b[0mself\u001b[0m\u001b[1;33m.\u001b[0m\u001b[0m_core\u001b[0m\u001b[1;33m.\u001b[0m\u001b[0mio\u001b[0m\u001b[1;33m.\u001b[0m\u001b[0mquery_bin_block_to_file\u001b[0m\u001b[1;33m(\u001b[0m\u001b[0mcmd\u001b[0m\u001b[1;33m,\u001b[0m \u001b[0mfile_path\u001b[0m\u001b[1;33m,\u001b[0m \u001b[0mappend\u001b[0m\u001b[1;33m)\u001b[0m\u001b[1;33m\u001b[0m\u001b[1;33m\u001b[0m\u001b[0m\n\u001b[0m\u001b[0;32m    383\u001b[0m \u001b[1;33m\u001b[0m\u001b[0m\n\u001b[0;32m    384\u001b[0m         \u001b[1;32mdef\u001b[0m \u001b[0mquery_bin_block_to_file_with_opc\u001b[0m\u001b[1;33m(\u001b[0m\u001b[0mself\u001b[0m\u001b[1;33m,\u001b[0m \u001b[0mcmd\u001b[0m\u001b[1;33m:\u001b[0m \u001b[0mstr\u001b[0m\u001b[1;33m,\u001b[0m \u001b[0mfile_path\u001b[0m\u001b[1;33m:\u001b[0m \u001b[0mstr\u001b[0m\u001b[1;33m,\u001b[0m \u001b[0mappend\u001b[0m\u001b[1;33m:\u001b[0m \u001b[0mbool\u001b[0m \u001b[1;33m=\u001b[0m \u001b[1;32mFalse\u001b[0m\u001b[1;33m,\u001b[0m \u001b[0mtimeout\u001b[0m\u001b[1;33m:\u001b[0m \u001b[0mint\u001b[0m \u001b[1;33m=\u001b[0m \u001b[1;32mNone\u001b[0m\u001b[1;33m)\u001b[0m \u001b[1;33m->\u001b[0m \u001b[1;32mNone\u001b[0m\u001b[1;33m:\u001b[0m\u001b[1;33m\u001b[0m\u001b[1;33m\u001b[0m\u001b[0m\n",
      "\u001b[1;32mc:\\users\\lnadi\\appdata\\local\\programs\\python\\python38\\lib\\site-packages\\RsInstrument\\Internal\\Instrument.py\u001b[0m in \u001b[0;36mquery_bin_block_to_file\u001b[1;34m(self, cmd, file_path, append)\u001b[0m\n\u001b[0;32m    407\u001b[0m                 \u001b[1;32mwith\u001b[0m \u001b[0mself\u001b[0m\u001b[1;33m.\u001b[0m\u001b[0m_lock\u001b[0m\u001b[1;33m:\u001b[0m\u001b[1;33m\u001b[0m\u001b[1;33m\u001b[0m\u001b[0m\n\u001b[0;32m    408\u001b[0m                         \u001b[1;32mwith\u001b[0m \u001b[0mStreamWriter\u001b[0m\u001b[1;33m.\u001b[0m\u001b[0mas_bin_file\u001b[0m\u001b[1;33m(\u001b[0m\u001b[0mfile_path\u001b[0m\u001b[1;33m,\u001b[0m \u001b[0mappend\u001b[0m\u001b[1;33m)\u001b[0m \u001b[1;32mas\u001b[0m \u001b[0mwriter\u001b[0m\u001b[1;33m:\u001b[0m\u001b[1;33m\u001b[0m\u001b[1;33m\u001b[0m\u001b[0m\n\u001b[1;32m--> 409\u001b[1;33m                                 \u001b[0mself\u001b[0m\u001b[1;33m.\u001b[0m\u001b[0mquery_bin_block_to_stream\u001b[0m\u001b[1;33m(\u001b[0m\u001b[0mcmd\u001b[0m\u001b[1;33m,\u001b[0m \u001b[0mwriter\u001b[0m\u001b[1;33m)\u001b[0m\u001b[1;33m\u001b[0m\u001b[1;33m\u001b[0m\u001b[0m\n\u001b[0m\u001b[0;32m    410\u001b[0m \u001b[1;33m\u001b[0m\u001b[0m\n\u001b[0;32m    411\u001b[0m         \u001b[1;32mdef\u001b[0m \u001b[0mquery_bin_block_to_stream_with_opc\u001b[0m\u001b[1;33m(\u001b[0m\u001b[0mself\u001b[0m\u001b[1;33m,\u001b[0m \u001b[0mquery\u001b[0m\u001b[1;33m:\u001b[0m \u001b[0mstr\u001b[0m\u001b[1;33m,\u001b[0m \u001b[0mstream\u001b[0m\u001b[1;33m:\u001b[0m \u001b[0mStreamWriter\u001b[0m\u001b[1;33m,\u001b[0m \u001b[0mtimeout\u001b[0m\u001b[1;33m:\u001b[0m \u001b[0mint\u001b[0m \u001b[1;33m=\u001b[0m \u001b[1;32mNone\u001b[0m\u001b[1;33m)\u001b[0m \u001b[1;33m->\u001b[0m \u001b[1;32mNone\u001b[0m\u001b[1;33m:\u001b[0m\u001b[1;33m\u001b[0m\u001b[1;33m\u001b[0m\u001b[0m\n",
      "\u001b[1;32mc:\\users\\lnadi\\appdata\\local\\programs\\python\\python38\\lib\\site-packages\\RsInstrument\\Internal\\Instrument.py\u001b[0m in \u001b[0;36mquery_bin_block_to_stream\u001b[1;34m(self, query, stream)\u001b[0m\n\u001b[0;32m    388\u001b[0m                         \u001b[0mquery\u001b[0m \u001b[1;33m=\u001b[0m \u001b[0mself\u001b[0m\u001b[1;33m.\u001b[0m\u001b[0m_replace_global_repcaps\u001b[0m\u001b[1;33m(\u001b[0m\u001b[0mquery\u001b[0m\u001b[1;33m)\u001b[0m\u001b[1;33m\u001b[0m\u001b[1;33m\u001b[0m\u001b[0m\n\u001b[0;32m    389\u001b[0m                         \u001b[0mself\u001b[0m\u001b[1;33m.\u001b[0m\u001b[0mstart_send_read_event\u001b[0m\u001b[1;33m(\u001b[0m\u001b[0mquery\u001b[0m\u001b[1;33m,\u001b[0m \u001b[1;32mFalse\u001b[0m\u001b[1;33m)\u001b[0m\u001b[1;33m\u001b[0m\u001b[1;33m\u001b[0m\u001b[0m\n\u001b[1;32m--> 390\u001b[1;33m                         \u001b[0mself\u001b[0m\u001b[1;33m.\u001b[0m\u001b[0m_session\u001b[0m\u001b[1;33m.\u001b[0m\u001b[0mquery_bin_block\u001b[0m\u001b[1;33m(\u001b[0m\u001b[0mquery\u001b[0m\u001b[1;33m,\u001b[0m \u001b[0mstream\u001b[0m\u001b[1;33m,\u001b[0m \u001b[1;32mTrue\u001b[0m\u001b[1;33m)\u001b[0m\u001b[1;33m\u001b[0m\u001b[1;33m\u001b[0m\u001b[0m\n\u001b[0m\u001b[0;32m    391\u001b[0m                         \u001b[0mself\u001b[0m\u001b[1;33m.\u001b[0m\u001b[0mend_send_read_event\u001b[0m\u001b[1;33m(\u001b[0m\u001b[1;33m)\u001b[0m\u001b[1;33m\u001b[0m\u001b[1;33m\u001b[0m\u001b[0m\n\u001b[0;32m    392\u001b[0m                         \u001b[0mself\u001b[0m\u001b[1;33m.\u001b[0m\u001b[0mcheck_status\u001b[0m\u001b[1;33m(\u001b[0m\u001b[1;33m)\u001b[0m\u001b[1;33m\u001b[0m\u001b[1;33m\u001b[0m\u001b[0m\n",
      "\u001b[1;32mc:\\users\\lnadi\\appdata\\local\\programs\\python\\python38\\lib\\site-packages\\RsInstrument\\Internal\\VisaSession.py\u001b[0m in \u001b[0;36mquery_bin_block\u001b[1;34m(self, query, stream, exc_if_not_bin)\u001b[0m\n\u001b[0;32m   1012\u001b[0m \t\t:param exc_if_not_bin: [Boolean] if True, the method throws exception if the received data is not binary\"\"\"\n\u001b[0;32m   1013\u001b[0m                 \u001b[0mself\u001b[0m\u001b[1;33m.\u001b[0m\u001b[0mwrite\u001b[0m\u001b[1;33m(\u001b[0m\u001b[0mquery\u001b[0m\u001b[1;33m)\u001b[0m\u001b[1;33m\u001b[0m\u001b[1;33m\u001b[0m\u001b[0m\n\u001b[1;32m-> 1014\u001b[1;33m                 \u001b[0mself\u001b[0m\u001b[1;33m.\u001b[0m\u001b[0mread_bin_block\u001b[0m\u001b[1;33m(\u001b[0m\u001b[0mstream\u001b[0m\u001b[1;33m,\u001b[0m \u001b[0mexc_if_not_bin\u001b[0m\u001b[1;33m)\u001b[0m\u001b[1;33m\u001b[0m\u001b[1;33m\u001b[0m\u001b[0m\n\u001b[0m\u001b[0;32m   1015\u001b[0m                 \u001b[1;32mreturn\u001b[0m\u001b[1;33m\u001b[0m\u001b[1;33m\u001b[0m\u001b[0m\n\u001b[0;32m   1016\u001b[0m \u001b[1;33m\u001b[0m\u001b[0m\n",
      "\u001b[1;32mc:\\users\\lnadi\\appdata\\local\\programs\\python\\python38\\lib\\site-packages\\RsInstrument\\Internal\\VisaSession.py\u001b[0m in \u001b[0;36mread_bin_block\u001b[1;34m(self, stream, exc_if_not_bin)\u001b[0m\n\u001b[0;32m    957\u001b[0m                 \u001b[1;33m:\u001b[0m\u001b[0mparam\u001b[0m \u001b[0mstream\u001b[0m\u001b[1;33m:\u001b[0m \u001b[1;33m[\u001b[0m\u001b[0mStreamWriter\u001b[0m\u001b[1;33m]\u001b[0m \u001b[0mtarget\u001b[0m \u001b[1;32mfor\u001b[0m \u001b[0mthe\u001b[0m \u001b[0mread\u001b[0m \u001b[0mdata\u001b[0m\u001b[1;33m.\u001b[0m \u001b[0mCan\u001b[0m \u001b[0mbe\u001b[0m \u001b[0mstring\u001b[0m\u001b[1;33m,\u001b[0m \u001b[0mbytes\u001b[0m\u001b[1;33m,\u001b[0m \u001b[1;32mor\u001b[0m \u001b[0ma\u001b[0m \u001b[0mfile\u001b[0m\u001b[1;33m\u001b[0m\u001b[1;33m\u001b[0m\u001b[0m\n\u001b[0;32m    958\u001b[0m \t\t:param exc_if_not_bin: if True, the method throws exception if the received data is not binary\"\"\"\n\u001b[1;32m--> 959\u001b[1;33m                 \u001b[0mdata_type\u001b[0m\u001b[1;33m,\u001b[0m \u001b[0mheader\u001b[0m\u001b[1;33m,\u001b[0m \u001b[0mlength\u001b[0m \u001b[1;33m=\u001b[0m \u001b[0mself\u001b[0m\u001b[1;33m.\u001b[0m\u001b[0m_parse_bin_data_header\u001b[0m\u001b[1;33m(\u001b[0m\u001b[0mexc_if_not_bin\u001b[0m\u001b[1;33m)\u001b[0m\u001b[1;33m\u001b[0m\u001b[1;33m\u001b[0m\u001b[0m\n\u001b[0m\u001b[0;32m    960\u001b[0m                 \u001b[1;32mif\u001b[0m \u001b[0mdata_type\u001b[0m \u001b[1;33m==\u001b[0m \u001b[0mReadDataType\u001b[0m\u001b[1;33m.\u001b[0m\u001b[0mascii\u001b[0m\u001b[1;33m:\u001b[0m\u001b[1;33m\u001b[0m\u001b[1;33m\u001b[0m\u001b[0m\n\u001b[0;32m    961\u001b[0m                         \u001b[0mstream\u001b[0m\u001b[1;33m.\u001b[0m\u001b[0mswitch_to_string_data\u001b[0m\u001b[1;33m(\u001b[0m\u001b[1;33m)\u001b[0m\u001b[1;33m\u001b[0m\u001b[1;33m\u001b[0m\u001b[0m\n",
      "\u001b[1;32mc:\\users\\lnadi\\appdata\\local\\programs\\python\\python38\\lib\\site-packages\\RsInstrument\\Internal\\VisaSession.py\u001b[0m in \u001b[0;36m_parse_bin_data_header\u001b[1;34m(self, exc_if_not_bin)\u001b[0m\n\u001b[0;32m    945\u001b[0m                 \u001b[1;32mif\u001b[0m \u001b[0mexc_if_not_bin\u001b[0m\u001b[1;33m:\u001b[0m\u001b[1;33m\u001b[0m\u001b[1;33m\u001b[0m\u001b[0m\n\u001b[0;32m    946\u001b[0m                         \u001b[1;32mif\u001b[0m \u001b[0mdata_type\u001b[0m \u001b[1;33m==\u001b[0m \u001b[0mReadDataType\u001b[0m\u001b[1;33m.\u001b[0m\u001b[0mnull\u001b[0m\u001b[1;33m:\u001b[0m\u001b[1;33m\u001b[0m\u001b[1;33m\u001b[0m\u001b[0m\n\u001b[1;32m--> 947\u001b[1;33m                                 \u001b[0mInstrumentErrors\u001b[0m\u001b[1;33m.\u001b[0m\u001b[0mthrow_bin_block_unexp_resp_exception\u001b[0m\u001b[1;33m(\u001b[0m\u001b[0mself\u001b[0m\u001b[1;33m.\u001b[0m\u001b[0m_resource_name\u001b[0m\u001b[1;33m,\u001b[0m \u001b[0mself\u001b[0m\u001b[1;33m.\u001b[0m\u001b[0m_term_char\u001b[0m\u001b[1;33m)\u001b[0m\u001b[1;33m\u001b[0m\u001b[1;33m\u001b[0m\u001b[0m\n\u001b[0m\u001b[0;32m    948\u001b[0m                         \u001b[1;31m# Read 20 more characters to compose a better exception message\u001b[0m\u001b[1;33m\u001b[0m\u001b[1;33m\u001b[0m\u001b[1;33m\u001b[0m\u001b[0m\n\u001b[0;32m    949\u001b[0m                         \u001b[0mwhole_hdr\u001b[0m \u001b[1;33m+=\u001b[0m \u001b[0mself\u001b[0m\u001b[1;33m.\u001b[0m\u001b[0mread_up_to_char\u001b[0m\u001b[1;33m(\u001b[0m\u001b[0mself\u001b[0m\u001b[1;33m.\u001b[0m\u001b[0m_term_char_bin\u001b[0m\u001b[1;33m,\u001b[0m \u001b[1;36m20\u001b[0m\u001b[1;33m)\u001b[0m\u001b[1;33m.\u001b[0m\u001b[0mdecode\u001b[0m\u001b[1;33m(\u001b[0m\u001b[1;34m\"utf-8\"\u001b[0m\u001b[1;33m)\u001b[0m\u001b[1;33m\u001b[0m\u001b[1;33m\u001b[0m\u001b[0m\n",
      "\u001b[1;32mc:\\users\\lnadi\\appdata\\local\\programs\\python\\python38\\lib\\site-packages\\RsInstrument\\Internal\\InstrumentErrors.py\u001b[0m in \u001b[0;36mthrow_bin_block_unexp_resp_exception\u001b[1;34m(rsrc_name, received_data)\u001b[0m\n\u001b[0;32m     75\u001b[0m         \u001b[1;34m\"\"\"Throws InvalidDataException - use it in case an instrument response is not a binary block.\"\"\"\u001b[0m\u001b[1;33m\u001b[0m\u001b[1;33m\u001b[0m\u001b[0m\n\u001b[0;32m     76\u001b[0m         \u001b[1;32mif\u001b[0m \u001b[0mreceived_data\u001b[0m\u001b[1;33m.\u001b[0m\u001b[0mendswith\u001b[0m\u001b[1;33m(\u001b[0m\u001b[1;34m'\\n'\u001b[0m\u001b[1;33m)\u001b[0m\u001b[1;33m:\u001b[0m\u001b[1;33m\u001b[0m\u001b[1;33m\u001b[0m\u001b[0m\n\u001b[1;32m---> 77\u001b[1;33m \t\traise UnexpectedResponseException(\n\u001b[0m\u001b[0;32m     78\u001b[0m \t\t\trsrc_name, \"Expected binary data header starting with #(hash), received data '{}'\".format(received_data.replace('\\n', '\\\\n')))\n\u001b[0;32m     79\u001b[0m         \u001b[1;32melse\u001b[0m\u001b[1;33m:\u001b[0m\u001b[1;33m\u001b[0m\u001b[1;33m\u001b[0m\u001b[0m\n",
      "\u001b[1;31mUnexpectedResponseException\u001b[0m: Expected binary data header starting with #(hash), received data '\\n'"
     ]
    }
   ],
   "source": [
    "instrument.transfer_from_instrument(r'C:\\Users\\Instrument\\Desktop\\Data\\', r\"C:\\Users\\lnadi\\Documents\\GitHub\\znd-remote-controller\\New\")"
   ]
  },
  {
   "cell_type": "code",
   "execution_count": null,
   "id": "focused-peter",
   "metadata": {},
   "outputs": [],
   "source": []
  }
 ],
 "metadata": {
  "kernelspec": {
   "display_name": "Python 3 (ipykernel)",
   "language": "python",
   "name": "python3"
  },
  "language_info": {
   "codemirror_mode": {
    "name": "ipython",
    "version": 3
   },
   "file_extension": ".py",
   "mimetype": "text/x-python",
   "name": "python",
   "nbconvert_exporter": "python",
   "pygments_lexer": "ipython3",
   "version": "3.8.10"
  }
 },
 "nbformat": 4,
 "nbformat_minor": 5
}
