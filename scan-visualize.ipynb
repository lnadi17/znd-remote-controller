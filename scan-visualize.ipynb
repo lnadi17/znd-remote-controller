{
 "cells": [
  {
   "cell_type": "markdown",
   "id": "norwegian-rally",
   "metadata": {},
   "source": [
    "## B-scan parse"
   ]
  },
  {
   "cell_type": "code",
   "execution_count": null,
   "id": "detailed-japanese",
   "metadata": {},
   "outputs": [],
   "source": [
    "import os\n",
    "import numpy as np\n",
    "from matplotlib import pyplot as plt"
   ]
  },
  {
   "cell_type": "code",
   "execution_count": null,
   "id": "interpreted-yorkshire",
   "metadata": {},
   "outputs": [],
   "source": [
    "root = 'first-scan/data2/parsed/'\n",
    "\n",
    "b_scan = None\n",
    "for file in sorted(os.listdir(root)):\n",
    "    if '.npy' not in file:\n",
    "        continue\n",
    "    b_scan = np.loadtxt(root + file, comments='%', delimiter=',').transpose()"
   ]
  },
  {
   "cell_type": "code",
   "execution_count": null,
   "id": "utility-stationery",
   "metadata": {},
   "outputs": [],
   "source": [
    "def join_as_complex(array):\n",
    "    rows = []\n",
    "    rows.append(array[0])\n",
    "    for i in range(1, len(array)):\n",
    "        if i % 2 == 0:\n",
    "            continue\n",
    "        complex_number = array[i] + 1j*array[i+1]\n",
    "        rows.append(complex_number)\n",
    "    return rows"
   ]
  },
  {
   "cell_type": "code",
   "execution_count": null,
   "id": "posted-procedure",
   "metadata": {},
   "outputs": [],
   "source": [
    "b_scan = join_as_complex(b_scan)"
   ]
  },
  {
   "cell_type": "code",
   "execution_count": null,
   "id": "interpreted-leisure",
   "metadata": {},
   "outputs": [],
   "source": [
    "def average_values(array):\n",
    "    rows = []\n",
    "    for i in range(0, len(array), 5):\n",
    "        row = []\n",
    "        for j in range(len(array[i])):\n",
    "            avg = (array[i][j] + array[i + 1][j] + array[i + 2][j] + array[i + 3][j] + array[i + 4][j]) / 5\n",
    "            row.append(avg)\n",
    "        rows.append(row)\n",
    "    return rows"
   ]
  },
  {
   "cell_type": "code",
   "execution_count": null,
   "id": "editorial-rebate",
   "metadata": {},
   "outputs": [],
   "source": [
    "frequencies = b_scan[0]\n",
    "b_scan = b_scan[2:] + [b_scan[1]]\n",
    "b_scan = average_values(b_scan)"
   ]
  },
  {
   "cell_type": "code",
   "execution_count": null,
   "id": "faced-buyer",
   "metadata": {},
   "outputs": [],
   "source": [
    "# calculate time step\n",
    "delta_t = 1 / (frequencies[-1] - frequencies[0])\n",
    "print('delta_t = ' + str(delta_t*1e9) + 'ns')\n",
    "\n",
    "plt.figure(figsize=(10, 7))\n",
    "plt.xlabel('Time (ns)')\n",
    "\n",
    "for i in range(len(b_scan)):\n",
    "    # create arrays for plotting\n",
    "    y = np.fft.irfft(b_scan[i][0:1000])[:200] + i*0.005\n",
    "    t = np.arange(0, delta_t * len(y), delta_t)\n",
    "\n",
    "    plt.plot(t*1e9, y)\n",
    "\n",
    "plt.show()"
   ]
  },
  {
   "cell_type": "code",
   "execution_count": null,
   "id": "moderate-support",
   "metadata": {},
   "outputs": [],
   "source": [
    "def draw_image(scan, cmap=None, aspect=None, interpolation=None, figsize=None, start_y=0, delta_w=7e9):\n",
    "    plt.figure(figsize=figsize)\n",
    "    plt.imshow(np.array(scan).transpose()[start_y:], cmap=cmap, aspect=aspect, interpolation=interpolation)\n",
    "#     delta_t = 1 / delta_w\n",
    "#     yticks = plt.yticks()#[0][1:-1]\n",
    "#     ylabels = yticks * delta_t * 1e9\n",
    "#     plt.yticks(yticks, ylabels)"
   ]
  },
  {
   "cell_type": "markdown",
   "id": "bottom-train",
   "metadata": {},
   "source": [
    "## first-scan/"
   ]
  },
  {
   "cell_type": "markdown",
   "id": "grave-document",
   "metadata": {},
   "source": [
    "### data5"
   ]
  },
  {
   "cell_type": "code",
   "execution_count": null,
   "id": "early-compromise",
   "metadata": {},
   "outputs": [],
   "source": [
    "root = 'first-scan/data5/parsed/'\n",
    "b_scan = None\n",
    "for file in sorted(os.listdir(root)):\n",
    "    if '.npy' not in file:\n",
    "        continue\n",
    "    b_scan = np.loadtxt(root + file, comments='%', delimiter=',').transpose()\n",
    "    break\n",
    "    \n",
    "b_scan = join_as_complex(b_scan)\n",
    "b_scan = b_scan[2:] + [b_scan[1]]\n",
    "\n",
    "cut_b_scan = np.array(b_scan)[:, 300:700]\n",
    "zeros = np.zeros((201, 300))\n",
    "b_scan_filtered = np.concatenate((zeros, cut_b_scan), axis=1)"
   ]
  },
  {
   "cell_type": "code",
   "execution_count": null,
   "id": "academic-excitement",
   "metadata": {},
   "outputs": [],
   "source": [
    "plot = np.apply_along_axis(np.fft.irfft, 1, np.array(b_scan)[:, ::15])\n",
    "draw_image(plot, aspect=1, figsize=(15, 5))"
   ]
  },
  {
   "cell_type": "markdown",
   "id": "compact-landing",
   "metadata": {},
   "source": [
    "## second-scan/"
   ]
  },
  {
   "cell_type": "markdown",
   "id": "adequate-python",
   "metadata": {},
   "source": [
    "First scan didn't show the results we were looking for (hyperbola shapes in the b-scan) so we performed additional scans with different parameters."
   ]
  },
  {
   "cell_type": "code",
   "execution_count": null,
   "id": "informed-scientist",
   "metadata": {},
   "outputs": [],
   "source": [
    "root = 'second-scan/parsed/'\n",
    "data_files = []\n",
    "for file in sorted(os.listdir(root)):\n",
    "    if '.npy' not in file:\n",
    "        continue\n",
    "    b_scan = np.loadtxt(root + file, comments='%', delimiter=',').transpose()\n",
    "    data_files.append(b_scan)\n",
    "    \n",
    "def draw_scan(file_number, sample_nth=1, zero_padding=0, end_index=None, aspect=None, interpolation=None, figsize=None, cmap=None, start_y=0, delta_w=7e9):\n",
    "    b_scan = data_files[file_number]\n",
    "    b_scan = join_as_complex(b_scan)\n",
    "    b_scan = b_scan[2:] + [b_scan[1]]\n",
    "    \n",
    "    cut_b_scan = np.array(b_scan)[:, zero_padding:]\n",
    "    zeros = np.zeros((cut_b_scan.shape[0], zero_padding))\n",
    "    b_scan_filtered = np.concatenate((zeros, cut_b_scan), axis=1)\n",
    "    \n",
    "    if end_index is not None:\n",
    "        b_scan_filtered = b_scan_filtered[:end_index]\n",
    "    \n",
    "    plot = np.apply_along_axis(np.fft.irfft, 1, np.array(b_scan_filtered)[:, ::sample_nth])\n",
    "    draw_image(plot, aspect=aspect, interpolation=interpolation, figsize=figsize, start_y=start_y, cmap=cmap, delta_w=delta_w/sample_nth)"
   ]
  },
  {
   "cell_type": "markdown",
   "id": "partial-resolution",
   "metadata": {},
   "source": [
    "### Jul 23, #1, 2\n",
    "Nothing, 2mm resolution. **2 files**."
   ]
  },
  {
   "cell_type": "code",
   "execution_count": null,
   "id": "operating-increase",
   "metadata": {},
   "outputs": [],
   "source": [
    "draw_scan(0, sample_nth=10, zero_padding=200, end_index=600, aspect=2, interpolation='nearest', figsize=(20, 10), start_y=0, cmap='gray')"
   ]
  },
  {
   "cell_type": "code",
   "execution_count": null,
   "id": "regional-interstate",
   "metadata": {},
   "outputs": [],
   "source": [
    "draw_scan(1, sample_nth=10, zero_padding=200, end_index=600, aspect=2, interpolation='nearest', figsize=(20, 10), start_y=50, cmap='gray')"
   ]
  },
  {
   "cell_type": "markdown",
   "id": "greenhouse-pittsburgh",
   "metadata": {},
   "source": [
    "### Jul 23, #3\n",
    "Fat disc, 2mm resolution, 16cm depth."
   ]
  },
  {
   "cell_type": "code",
   "execution_count": null,
   "id": "initial-mistress",
   "metadata": {},
   "outputs": [],
   "source": [
    "draw_scan(2, sample_nth=10, zero_padding=200, end_index=600, start_y=0, figsize=(20,10), cmap='gray', aspect=3)"
   ]
  },
  {
   "cell_type": "markdown",
   "id": "hazardous-dress",
   "metadata": {},
   "source": [
    "### Jul 24, #1\n",
    "Fat disc, 2mm resolution, 16cm depth."
   ]
  },
  {
   "cell_type": "code",
   "execution_count": null,
   "id": "acoustic-meeting",
   "metadata": {},
   "outputs": [],
   "source": [
    "draw_scan(3, sample_nth=10, zero_padding=200, end_index=600)"
   ]
  },
  {
   "cell_type": "markdown",
   "id": "familiar-helen",
   "metadata": {},
   "source": [
    "### Jul 24, #2, 3\n",
    "Fat disc in an open hole of 16cm depth, 2mm resolution, 16cm depth. **2 files**."
   ]
  },
  {
   "cell_type": "code",
   "execution_count": null,
   "id": "working-italian",
   "metadata": {},
   "outputs": [],
   "source": [
    "draw_scan(4, sample_nth=10, zero_padding=250, end_index=600, aspect=3, figsize=(20, 10))"
   ]
  },
  {
   "cell_type": "code",
   "execution_count": null,
   "id": "neither-muslim",
   "metadata": {},
   "outputs": [],
   "source": [
    "draw_scan(5, sample_nth=10, zero_padding=200, end_index=600)"
   ]
  },
  {
   "cell_type": "markdown",
   "id": "sticky-wisconsin",
   "metadata": {},
   "source": [
    "### Jul 24, #4\n",
    "Fat disc, 200 measure points, 16cm depth, 2mm resolution."
   ]
  },
  {
   "cell_type": "code",
   "execution_count": null,
   "id": "nominated-howard",
   "metadata": {},
   "outputs": [],
   "source": [
    "draw_scan(6, sample_nth=1, zero_padding=0, end_index=None)"
   ]
  },
  {
   "cell_type": "markdown",
   "id": "stable-beads",
   "metadata": {},
   "source": [
    "### Jul 24, #5\n",
    "Fat disc, 200 measure points, 16cm depth, 2mm resolution, SMA actual."
   ]
  },
  {
   "cell_type": "code",
   "execution_count": null,
   "id": "structural-vintage",
   "metadata": {},
   "outputs": [],
   "source": [
    "draw_scan(7, sample_nth=1, zero_padding=0, end_index=None, aspect=0.5, figsize=(20, 10), start_y=0, interpolation='Nearest', cmap='gray')"
   ]
  },
  {
   "cell_type": "markdown",
   "id": "concerned-screening",
   "metadata": {},
   "source": [
    "### Jul 24, #6\n",
    "Fat disc, 2-6 GHz, 200 measure points, 16cm depth, SMA actual, 2mm resolution."
   ]
  },
  {
   "cell_type": "code",
   "execution_count": null,
   "id": "contrary-gazette",
   "metadata": {},
   "outputs": [],
   "source": [
    "draw_scan(8, sample_nth=1, zero_padding=0, end_index=None, figsize=(20, 10), cmap='gray', start_y=0, aspect=5, delta_w=4e9)"
   ]
  },
  {
   "cell_type": "markdown",
   "id": "peaceful-marketplace",
   "metadata": {},
   "source": [
    "### Jul 24, #7\n",
    "Fat disc, 2-6 GHz, 200 measure points, 16cm depth, SMA actual, 2mm resolution, S11."
   ]
  },
  {
   "cell_type": "code",
   "execution_count": null,
   "id": "smaller-sport",
   "metadata": {},
   "outputs": [],
   "source": [
    "draw_scan(9, sample_nth=3, zero_padding=0, end_index=None)"
   ]
  },
  {
   "cell_type": "markdown",
   "id": "wooden-platform",
   "metadata": {},
   "source": [
    "### Jul 24, #8, 9\n",
    "Fat disc, 2-6 GHz, 200 measure points, 16cm depth, SMA actual, 2mm resolution, S22, 2 files."
   ]
  },
  {
   "cell_type": "code",
   "execution_count": null,
   "id": "reported-payday",
   "metadata": {},
   "outputs": [],
   "source": [
    "draw_scan(10, sample_nth=3, zero_padding=0, end_index=None)"
   ]
  },
  {
   "cell_type": "code",
   "execution_count": null,
   "id": "functioning-economy",
   "metadata": {},
   "outputs": [],
   "source": [
    "draw_scan(11, sample_nth=3, zero_padding=0, end_index=None)"
   ]
  },
  {
   "cell_type": "markdown",
   "id": "outdoor-expense",
   "metadata": {},
   "source": [
    "### Jul 24, #10\n",
    "Fat disc, 2-6 GHz, 1000 measure points, 16cm depth, SMA actual, 2mm resolution, S22."
   ]
  },
  {
   "cell_type": "code",
   "execution_count": null,
   "id": "incomplete-louisiana",
   "metadata": {},
   "outputs": [],
   "source": [
    "draw_scan(12, sample_nth=15, zero_padding=0, end_index=None)"
   ]
  },
  {
   "cell_type": "markdown",
   "id": "compound-berlin",
   "metadata": {},
   "source": [
    "### Jul 24, #11\n",
    "PVC Pipe, 2-6 GHz, 1000 points, SMA actual, 2mm resolution, 25cm depth, S11."
   ]
  },
  {
   "cell_type": "code",
   "execution_count": null,
   "id": "thermal-genre",
   "metadata": {},
   "outputs": [],
   "source": [
    "draw_scan(13, sample_nth=15, zero_padding=0, end_index=None)"
   ]
  },
  {
   "cell_type": "markdown",
   "id": "tender-vegetable",
   "metadata": {},
   "source": [
    "### Jul 24, #12\n",
    "PVC Pipe, 2-6 GHz, 1000 points, SMA actual, 2mm resolution, 25cm depth, S22."
   ]
  },
  {
   "cell_type": "code",
   "execution_count": null,
   "id": "close-concept",
   "metadata": {},
   "outputs": [],
   "source": [
    "draw_scan(14, sample_nth=15, zero_padding=0, end_index=None)"
   ]
  },
  {
   "cell_type": "markdown",
   "id": "unauthorized-colombia",
   "metadata": {},
   "source": [
    "### Jul 24, #13\n",
    "PVC Pipe, 2-6 GHz, 1000 points, SMA actual, 2mm resolution, 25cm depth, S21."
   ]
  },
  {
   "cell_type": "code",
   "execution_count": null,
   "id": "empirical-interpretation",
   "metadata": {},
   "outputs": [],
   "source": [
    "draw_scan(15, sample_nth=5, zero_padding=0, end_index=None)"
   ]
  },
  {
   "cell_type": "markdown",
   "id": "rapid-citation",
   "metadata": {},
   "source": [
    "### Jul 24, #14\n",
    "PVC Pipe, 2-6 GHz, 1000 points, SMA actual, 2mm resolution, 25cm depth, S12."
   ]
  },
  {
   "cell_type": "code",
   "execution_count": null,
   "id": "statistical-password",
   "metadata": {},
   "outputs": [],
   "source": [
    "draw_scan(16, sample_nth=5, zero_padding=0, end_index=None)"
   ]
  },
  {
   "cell_type": "markdown",
   "id": "trained-soldier",
   "metadata": {},
   "source": [
    "### Jul 24, #15\n",
    "PVC pipe, 2mm resolution, 300 points, SMA ideal, 25cm depth."
   ]
  },
  {
   "cell_type": "code",
   "execution_count": null,
   "id": "offensive-continent",
   "metadata": {},
   "outputs": [],
   "source": [
    "draw_scan(17, sample_nth=1, zero_padding=0, end_index=None)"
   ]
  },
  {
   "cell_type": "markdown",
   "id": "optimum-navigator",
   "metadata": {},
   "source": [
    "### Jul 24, #16\n",
    "PVC pipe, 2mm resolution, 200 points, 2-6 GHz, SMA ideal, 25cm depth."
   ]
  },
  {
   "cell_type": "code",
   "execution_count": null,
   "id": "concrete-annual",
   "metadata": {},
   "outputs": [],
   "source": [
    "draw_scan(18, sample_nth=1, zero_padding=0, end_index=None)"
   ]
  },
  {
   "cell_type": "markdown",
   "id": "dominant-trust",
   "metadata": {},
   "source": [
    "### Jul 24, #17\n",
    "Fat disc on top of sand, 2mm resolution, SMA actual."
   ]
  },
  {
   "cell_type": "code",
   "execution_count": null,
   "id": "interior-identification",
   "metadata": {},
   "outputs": [],
   "source": [
    "draw_scan(19, sample_nth=5, zero_padding=0, end_index=None)"
   ]
  },
  {
   "cell_type": "markdown",
   "id": "earlier-washington",
   "metadata": {},
   "source": [
    "## fourth-scan/"
   ]
  },
  {
   "cell_type": "code",
   "execution_count": null,
   "id": "expressed-fortune",
   "metadata": {},
   "outputs": [],
   "source": [
    "root = 'fourth-scan/parsed/'\n",
    "data_files = []\n",
    "for file in sorted(os.listdir(root)):\n",
    "    if '.npy' not in file:\n",
    "        continue\n",
    "    b_scan = np.loadtxt(root + file, comments='%', delimiter=',').transpose()\n",
    "    data_files.append(b_scan)\n",
    "    \n",
    "def draw_scan(file_number, sample_nth=1, zero_padding=0, end_index=None, aspect=None, interpolation=None, figsize=None, cmap=None, start_y=0, delta_w=7e9):\n",
    "    b_scan = data_files[file_number]\n",
    "    b_scan = join_as_complex(b_scan)\n",
    "    b_scan = b_scan[2:] + [b_scan[1]]\n",
    "    \n",
    "    cut_b_scan = np.array(b_scan)[:, zero_padding:]\n",
    "    zeros = np.zeros((cut_b_scan.shape[0], zero_padding))\n",
    "    b_scan_filtered = np.concatenate((zeros, cut_b_scan), axis=1)\n",
    "    \n",
    "    if end_index is not None:\n",
    "        b_scan_filtered = b_scan_filtered[:end_index]\n",
    "    \n",
    "    plot = np.apply_along_axis(np.fft.irfft, 1, np.array(b_scan_filtered)[:, ::sample_nth])\n",
    "    draw_image(plot, aspect=aspect, interpolation=interpolation, figsize=figsize, start_y=start_y, cmap=cmap, delta_w=delta_w/sample_nth)"
   ]
  },
  {
   "cell_type": "code",
   "execution_count": null,
   "id": "sonic-debate",
   "metadata": {},
   "outputs": [],
   "source": [
    "draw_scan(0, sample_nth=15, zero_padding=10, end_index=20, aspect=0.2, interpolation='nearest', figsize=(10, 10), start_y=0, cmap='gray')"
   ]
  },
  {
   "cell_type": "code",
   "execution_count": null,
   "id": "anticipated-bottle",
   "metadata": {},
   "outputs": [],
   "source": [
    "import pickle"
   ]
  },
  {
   "cell_type": "code",
   "execution_count": null,
   "id": "guided-czech",
   "metadata": {},
   "outputs": [],
   "source": [
    "pkl_filename = \"pickle_model.pkl\"\n",
    "\n",
    "# Load from file\n",
    "with open(pkl_filename, 'rb') as file:\n",
    "    pickle_model = pickle.load(file)"
   ]
  },
  {
   "cell_type": "code",
   "execution_count": null,
   "id": "least-layer",
   "metadata": {},
   "outputs": [],
   "source": [
    "def join_as_complex2(array):\n",
    "    rows = []\n",
    "    for i in range(0, len(array)):\n",
    "        if i % 2 == 1:\n",
    "            continue\n",
    "        complex_number = array[i] + 1j*array[i+1]\n",
    "        rows.append(abs(complex_number))\n",
    "    return rows"
   ]
  },
  {
   "cell_type": "code",
   "execution_count": null,
   "id": "wireless-princeton",
   "metadata": {},
   "outputs": [],
   "source": [
    "oct_9 = []\n",
    "for elem in join_as_complex2(data_files[1][1:]):\n",
    "    oct_9.append(elem)"
   ]
  },
  {
   "cell_type": "code",
   "execution_count": null,
   "id": "green-turkish",
   "metadata": {},
   "outputs": [],
   "source": [
    "plt.plot(oct_9[4])"
   ]
  },
  {
   "cell_type": "code",
   "execution_count": null,
   "id": "given-quarter",
   "metadata": {},
   "outputs": [],
   "source": [
    "# Calculate the accuracy score and predict target values\n",
    "score = pickle_model.score(oct_9, [1] * (len(oct_9)))\n",
    "print(\"Test score: {0:.2f} %\".format(100 * score))\n",
    "Ypredict = pickle_model.predict(oct_9)"
   ]
  },
  {
   "cell_type": "code",
   "execution_count": null,
   "id": "arabic-arkansas",
   "metadata": {},
   "outputs": [],
   "source": [
    "probabilities = []\n",
    "for i in range(len(oct_9)):\n",
    "    probabilities.append(pickle_model.predict_proba([oct_9[i]])[:, 1][0])"
   ]
  },
  {
   "cell_type": "code",
   "execution_count": null,
   "id": "altered-virginia",
   "metadata": {},
   "outputs": [],
   "source": [
    "plt.plot(probabilities)"
   ]
  },
  {
   "cell_type": "code",
   "execution_count": null,
   "id": "damaged-image",
   "metadata": {},
   "outputs": [],
   "source": [
    "root = 'fifth-scan/parsed/'\n",
    "data_files = []\n",
    "for file in sorted(os.listdir(root)):\n",
    "    if '.npy' not in file:\n",
    "        continue\n",
    "    b_scan = np.loadtxt(root + file, comments='%', delimiter=',').transpose()\n",
    "    data_files.append(b_scan)\n",
    "    \n",
    "def draw_scan(file_number, sample_nth=1, zero_padding=0, end_index=None, aspect=None, interpolation=None, figsize=None, cmap=None, start_y=0, delta_w=3e9, background_filter=False):\n",
    "    b_scan = data_files[file_number]\n",
    "    b_scan = join_as_complex(b_scan)\n",
    "    b_scan = b_scan[2:] + [b_scan[1]]\n",
    "    \n",
    "    cut_b_scan = np.array(b_scan)[:, zero_padding:]\n",
    "    zeros = np.zeros((cut_b_scan.shape[0], zero_padding))\n",
    "    b_scan_filtered = np.concatenate((zeros, cut_b_scan), axis=1)\n",
    "    \n",
    "    if end_index is not None:\n",
    "        b_scan_filtered = b_scan_filtered[:, :end_index]\n",
    "    \n",
    "    plot = np.apply_along_axis(np.fft.irfft, 1, np.array(b_scan_filtered)[:, ::sample_nth])\n",
    "    \n",
    "    if background_filter:\n",
    "        for i in range(len(plot[0])):\n",
    "            average = np.average(plot[:, i])\n",
    "            plot[:, i] -= average\n",
    "            \n",
    "    draw_image(plot, aspect=aspect, interpolation=interpolation, figsize=figsize, start_y=start_y, cmap=cmap, delta_w=delta_w/sample_nth)"
   ]
  },
  {
   "cell_type": "code",
   "execution_count": null,
   "id": "other-holocaust",
   "metadata": {},
   "outputs": [],
   "source": [
    "draw_scan(15, background_filter=True, sample_nth=1, zero_padding=8, end_index=None, aspect=1, interpolation='bilinear', figsize=(10, 10), start_y=0, cmap='gray')"
   ]
  }
 ],
 "metadata": {
  "kernelspec": {
   "display_name": "Python 3",
   "language": "python",
   "name": "python3"
  },
  "language_info": {
   "codemirror_mode": {
    "name": "ipython",
    "version": 3
   },
   "file_extension": ".py",
   "mimetype": "text/x-python",
   "name": "python",
   "nbconvert_exporter": "python",
   "pygments_lexer": "ipython3",
   "version": "3.8.7"
  }
 },
 "nbformat": 4,
 "nbformat_minor": 5
}
