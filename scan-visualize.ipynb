{
 "cells": [
  {
   "cell_type": "code",
   "execution_count": null,
   "id": "delayed-candy",
   "metadata": {},
   "outputs": [],
   "source": [
    "import os\n",
    "import numpy as np\n",
    "from matplotlib import pyplot as plt"
   ]
  },
  {
   "cell_type": "code",
   "execution_count": null,
   "id": "parallel-invasion",
   "metadata": {},
   "outputs": [],
   "source": [
    "root = 'first-scan/data/parsed/'\n",
    "\n",
    "b_scans = []\n",
    "for file in sorted(os.listdir(root)):\n",
    "    if '.npy' not in file:\n",
    "        continue\n",
    "    b_scan = np.loadtxt(root + file, comments='%', delimiter=',').transpose()\n",
    "    b_scans.append(b_scan)"
   ]
  },
  {
   "cell_type": "code",
   "execution_count": null,
   "id": "realistic-breast",
   "metadata": {},
   "outputs": [],
   "source": [
    "def join_as_complex(array):\n",
    "    rows = []\n",
    "    rows.append(array[0])\n",
    "    for i in range(3, len(array)):\n",
    "        if i % 2 == 0:\n",
    "            continue\n",
    "        complex_number = array[i] + 1j*array[i+1]\n",
    "        rows.append(complex_number)\n",
    "    return rows"
   ]
  },
  {
   "cell_type": "code",
   "execution_count": null,
   "id": "sunset-guatemala",
   "metadata": {},
   "outputs": [],
   "source": [
    "for i in range(len(b_scans)):\n",
    "    b_scans[i] = join_as_complex(b_scans[i])[:-4]"
   ]
  },
  {
   "cell_type": "code",
   "execution_count": null,
   "id": "endless-contact",
   "metadata": {},
   "outputs": [],
   "source": [
    "def average_values(array):\n",
    "    rows = []\n",
    "    rows.append(array[0])\n",
    "    for i in range(1, len(array), 4):\n",
    "        row = []\n",
    "        for j in range(len(array[i])):\n",
    "            avg = (array[i][j] + array[i + 1][j] + array[i + 2][j] + array[i + 3][j]) / 4\n",
    "            row.append(avg)\n",
    "        rows.append(row)\n",
    "    return rows"
   ]
  },
  {
   "cell_type": "code",
   "execution_count": null,
   "id": "fresh-duncan",
   "metadata": {},
   "outputs": [],
   "source": [
    "b_scans = b_scans[:-1]"
   ]
  },
  {
   "cell_type": "code",
   "execution_count": null,
   "id": "assigned-equivalent",
   "metadata": {},
   "outputs": [],
   "source": [
    "frequencies = b_scans[0][0]\n",
    "averages = []\n",
    "for b_scan in b_scans:\n",
    "    averages.append(average_values(b_scan)[1:])"
   ]
  },
  {
   "cell_type": "code",
   "execution_count": null,
   "id": "little-pressing",
   "metadata": {},
   "outputs": [],
   "source": [
    "# calculate time step\n",
    "delta_t = 1 / (frequencies[-1] - frequencies[0])\n",
    "print('delta_t = ' + str(delta_t*1e9) + 'ns')\n",
    "\n",
    "# create arrays for plotting\n",
    "y = np.fft.irfft(averages[7][1])\n",
    "t = np.arange(0, delta_t * len(y), delta_t)\n",
    "\n",
    "plt.figure(figsize=(10, 7))\n",
    "plt.xlabel('Time (ns)')\n",
    "plt.plot(t*1e9, y, 'black')\n",
    "\n",
    "plt.show()"
   ]
  },
  {
   "cell_type": "code",
   "execution_count": null,
   "id": "environmental-argument",
   "metadata": {},
   "outputs": [],
   "source": [
    "# calculate time step\n",
    "delta_t = 1 / (frequencies[-1] - frequencies[0])\n",
    "print('delta_t = ' + str(delta_t*1e9) + 'ns')\n",
    "\n",
    "plt.figure(figsize=(10, 7))\n",
    "plt.xlabel('Time (ns)')\n",
    "\n",
    "for i in range(len(averages[5])):\n",
    "    # create arrays for plotting\n",
    "    new_average = np.zeros(200) + averages[7][i][:200]\n",
    "    new_average = averages[0][i]\n",
    "    y = np.fft.irfft(new_average)[:200] + i*0.01\n",
    "    t = np.arange(0, delta_t * len(y), delta_t)\n",
    "\n",
    "    plt.plot(t*1e9, y)\n",
    "\n",
    "plt.show()"
   ]
  },
  {
   "cell_type": "markdown",
   "id": "norwegian-rally",
   "metadata": {},
   "source": [
    "## B-scan parse"
   ]
  },
  {
   "cell_type": "code",
   "execution_count": null,
   "id": "detailed-japanese",
   "metadata": {},
   "outputs": [],
   "source": [
    "import os\n",
    "import numpy as np\n",
    "from matplotlib import pyplot as plt"
   ]
  },
  {
   "cell_type": "code",
   "execution_count": null,
   "id": "interpreted-yorkshire",
   "metadata": {},
   "outputs": [],
   "source": [
    "root = 'first-scan/data2/parsed/'\n",
    "\n",
    "b_scan = None\n",
    "for file in sorted(os.listdir(root)):\n",
    "    if '.npy' not in file:\n",
    "        continue\n",
    "    b_scan = np.loadtxt(root + file, comments='%', delimiter=',').transpose()"
   ]
  },
  {
   "cell_type": "code",
   "execution_count": null,
   "id": "placed-falls",
   "metadata": {},
   "outputs": [],
   "source": [
    "len(b_scan)"
   ]
  },
  {
   "cell_type": "code",
   "execution_count": null,
   "id": "utility-stationery",
   "metadata": {},
   "outputs": [],
   "source": [
    "def join_as_complex(array):\n",
    "    rows = []\n",
    "    rows.append(array[0])\n",
    "    for i in range(1, len(array)):\n",
    "        if i % 2 == 0:\n",
    "            continue\n",
    "        complex_number = array[i] + 1j*array[i+1]\n",
    "        rows.append(complex_number)\n",
    "    return rows"
   ]
  },
  {
   "cell_type": "code",
   "execution_count": null,
   "id": "posted-procedure",
   "metadata": {},
   "outputs": [],
   "source": [
    "b_scan = join_as_complex(b_scan)\n",
    "len(b_scan)"
   ]
  },
  {
   "cell_type": "code",
   "execution_count": null,
   "id": "interpreted-leisure",
   "metadata": {},
   "outputs": [],
   "source": [
    "def average_values(array):\n",
    "    rows = []\n",
    "    for i in range(0, len(array), 5):\n",
    "        row = []\n",
    "        for j in range(len(array[i])):\n",
    "            avg = (array[i][j] + array[i + 1][j] + array[i + 2][j] + array[i + 3][j] + array[i + 4][j]) / 5\n",
    "            row.append(avg)\n",
    "        rows.append(row)\n",
    "    return rows"
   ]
  },
  {
   "cell_type": "code",
   "execution_count": null,
   "id": "editorial-rebate",
   "metadata": {},
   "outputs": [],
   "source": [
    "frequencies = b_scan[0]\n",
    "b_scan = b_scan[2:] + [b_scan[1]]\n",
    "len(b_scan)"
   ]
  },
  {
   "cell_type": "code",
   "execution_count": null,
   "id": "popular-payment",
   "metadata": {},
   "outputs": [],
   "source": [
    "b_scan = average_values(b_scan)\n",
    "len(b_scan)"
   ]
  },
  {
   "cell_type": "code",
   "execution_count": null,
   "id": "piano-thompson",
   "metadata": {},
   "outputs": [],
   "source": [
    "len(frequencies)"
   ]
  },
  {
   "cell_type": "code",
   "execution_count": null,
   "id": "faced-buyer",
   "metadata": {},
   "outputs": [],
   "source": [
    "# calculate time step\n",
    "delta_t = 1 / (frequencies[-1] - frequencies[0])\n",
    "print('delta_t = ' + str(delta_t*1e9) + 'ns')\n",
    "\n",
    "plt.figure(figsize=(10, 7))\n",
    "plt.xlabel('Time (ns)')\n",
    "\n",
    "for i in range(len(bla)):\n",
    "    # create arrays for plotting\n",
    "    y = np.fft.irfft(bla[i][0:1000])[:200] + i*0.005\n",
    "    t = np.arange(0, delta_t * len(y), delta_t)\n",
    "\n",
    "    plt.plot(t*1e9, y)\n",
    "\n",
    "plt.show()"
   ]
  },
  {
   "cell_type": "code",
   "execution_count": null,
   "id": "moderate-support",
   "metadata": {},
   "outputs": [],
   "source": [
    "def draw_image(scan, cmap=None, aspect='auto'):\n",
    "    plt.imshow(np.array(scan).transpose(), cmap=cmap, aspect='auto')"
   ]
  },
  {
   "cell_type": "code",
   "execution_count": null,
   "id": "pointed-error",
   "metadata": {},
   "outputs": [],
   "source": [
    "plot = np.apply_along_axis(np.fft.irfft, 1, np.array(b_scan)[:, 0:800:15])\n",
    "draw_image(plot)"
   ]
  },
  {
   "cell_type": "code",
   "execution_count": null,
   "id": "b8af3574",
   "metadata": {},
   "outputs": [],
   "source": [
    "plot = np.apply_along_axis(np.fft.irfft, 1, np.array(bla)[:, 0:600:15])\n",
    "draw_image(plot, cmap = 'gray')"
   ]
  },
  {
   "cell_type": "code",
   "execution_count": null,
   "id": "5839c2dc",
   "metadata": {},
   "outputs": [],
   "source": [
    "tmp = np.array(b_scan)\n",
    "tmp = tmp[:, 250:600]\n",
    "zeros = np.zeros((51, 250))\n",
    "bla = np.concatenate((zeros, tmp), axis = 1)\n",
    "frequencies[600]/1e9\n",
    "len(bla[0])"
   ]
  },
  {
   "cell_type": "code",
   "execution_count": null,
   "id": "impressive-testing",
   "metadata": {},
   "outputs": [],
   "source": [
    "a = np.array([[1, 2], [3, 4]])"
   ]
  },
  {
   "cell_type": "code",
   "execution_count": null,
   "id": "current-hindu",
   "metadata": {},
   "outputs": [],
   "source": [
    "np.apply_along_axis(print, 1, a)"
   ]
  },
  {
   "cell_type": "code",
   "execution_count": null,
   "id": "together-talent",
   "metadata": {},
   "outputs": [],
   "source": [
    "np.array(b_scan)[:, 0:1000:10].shape"
   ]
  }
 ],
 "metadata": {
  "kernelspec": {
   "display_name": "Python 3 (ipykernel)",
   "language": "python",
   "name": "python3"
  },
  "language_info": {
   "codemirror_mode": {
    "name": "ipython",
    "version": 3
   },
   "file_extension": ".py",
   "mimetype": "text/x-python",
   "name": "python",
   "nbconvert_exporter": "python",
   "pygments_lexer": "ipython3",
   "version": "3.8.10"
  }
 },
 "nbformat": 4,
 "nbformat_minor": 5
}
