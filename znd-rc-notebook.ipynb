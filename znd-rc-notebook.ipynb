{
 "cells": [
  {
   "cell_type": "code",
   "execution_count": 1,
   "id": "worse-pledge",
   "metadata": {},
   "outputs": [],
   "source": [
    "from Instrument import Instrument\n",
    "import string\n",
    "import random\n",
    "import Types\n",
    "from time import sleep"
   ]
  },
  {
   "cell_type": "markdown",
   "id": "absolute-appointment",
   "metadata": {},
   "source": [
    "# Test"
   ]
  },
  {
   "cell_type": "markdown",
   "id": "cutting-manchester",
   "metadata": {},
   "source": [
    "## Connection"
   ]
  },
  {
   "cell_type": "code",
   "execution_count": 2,
   "id": "alternative-advocacy",
   "metadata": {},
   "outputs": [
    {
     "name": "stdout",
     "output_type": "stream",
     "text": [
      "\n",
      "Hello, I am: 'Rohde-Schwarz,ZND-2Port,1328517092100889,2.80'\n",
      "RsInstrument driver version: 1.9.0.52\n",
      "Visa manufacturer: Rohde & Schwarz GmbH\n",
      "Instrument full name: ZND-2Port\n",
      "Instrument installed options: K1,K6\n"
     ]
    }
   ],
   "source": [
    "resource_string = 'TCPIP::192.168.0.100::hislip0'\n",
    "instrument = Instrument(resource_string)\n",
    "instrument.greet()"
   ]
  },
  {
   "cell_type": "markdown",
   "id": "freelance-handle",
   "metadata": {},
   "source": [
    "## Instrument Settings"
   ]
  },
  {
   "cell_type": "code",
   "execution_count": 3,
   "id": "delayed-george",
   "metadata": {},
   "outputs": [],
   "source": [
    "instrument.reset()"
   ]
  },
  {
   "cell_type": "code",
   "execution_count": 4,
   "id": "several-treasury",
   "metadata": {},
   "outputs": [],
   "source": [
    "instrument.set_visa_timeout = 3000"
   ]
  },
  {
   "cell_type": "code",
   "execution_count": 5,
   "id": "blocked-inflation",
   "metadata": {},
   "outputs": [],
   "source": [
    "instrument.set_status_checking = True"
   ]
  },
  {
   "cell_type": "markdown",
   "id": "circular-desktop",
   "metadata": {},
   "source": [
    "## Correction"
   ]
  },
  {
   "cell_type": "code",
   "execution_count": 6,
   "id": "inside-surname",
   "metadata": {},
   "outputs": [],
   "source": [
    "instrument.correction_load(1, 'N.cal')"
   ]
  },
  {
   "cell_type": "code",
   "execution_count": 7,
   "id": "resistant-filter",
   "metadata": {},
   "outputs": [
    {
     "data": {
      "text/plain": [
       "\"'CAI'\""
      ]
     },
     "execution_count": 7,
     "metadata": {},
     "output_type": "execute_result"
    }
   ],
   "source": [
    "instrument.correction_state()"
   ]
  },
  {
   "cell_type": "markdown",
   "id": "appropriate-audio",
   "metadata": {},
   "source": [
    "## Traces"
   ]
  },
  {
   "cell_type": "code",
   "execution_count": 8,
   "id": "imposed-female",
   "metadata": {},
   "outputs": [],
   "source": [
    "instrument.trace_create(1, 'MainTrace', 'S11')"
   ]
  },
  {
   "cell_type": "code",
   "execution_count": 9,
   "id": "fundamental-cooperation",
   "metadata": {},
   "outputs": [],
   "source": [
    "instrument.trace_assign_to_window(1, 2, 'MainTrace')"
   ]
  },
  {
   "cell_type": "code",
   "execution_count": 10,
   "id": "temporal-healing",
   "metadata": {},
   "outputs": [],
   "source": [
    "instrument.trace_rename(2, 'MainTraceRenamed')"
   ]
  },
  {
   "cell_type": "code",
   "execution_count": 11,
   "id": "incorrect-attitude",
   "metadata": {},
   "outputs": [],
   "source": [
    "instrument.trace_set_points(1, 1000)"
   ]
  },
  {
   "cell_type": "code",
   "execution_count": 12,
   "id": "coordinate-track",
   "metadata": {},
   "outputs": [],
   "source": [
    "instrument.trace_copy('MemoryTrace', 'Trc1')"
   ]
  },
  {
   "cell_type": "code",
   "execution_count": 13,
   "id": "standing-yemen",
   "metadata": {},
   "outputs": [],
   "source": [
    "instrument.trace_assign_to_window(1, 3, 'MemoryTrace')"
   ]
  },
  {
   "cell_type": "code",
   "execution_count": 14,
   "id": "regulated-builder",
   "metadata": {},
   "outputs": [
    {
     "ename": "StatusException",
     "evalue": "'TCPIP::192.168.0.100::hislip0': Instrument error detected: Execution error;mmemory:store:trace:channel 1, 'C:\\Users\\Instrument\\Desktop\\test\\evtxrhdpuu.dat', formatted, complex, point, semicolon",
     "output_type": "error",
     "traceback": [
      "\u001b[1;31m---------------------------------------------------------------------------\u001b[0m",
      "\u001b[1;31mStatusException\u001b[0m                           Traceback (most recent call last)",
      "\u001b[1;32m<ipython-input-14-b30a990f2df5>\u001b[0m in \u001b[0;36m<module>\u001b[1;34m\u001b[0m\n\u001b[0;32m      1\u001b[0m \u001b[0mrandom_name\u001b[0m \u001b[1;33m=\u001b[0m \u001b[1;34m''\u001b[0m\u001b[1;33m.\u001b[0m\u001b[0mjoin\u001b[0m\u001b[1;33m(\u001b[0m\u001b[0mrandom\u001b[0m\u001b[1;33m.\u001b[0m\u001b[0mchoice\u001b[0m\u001b[1;33m(\u001b[0m\u001b[0mstring\u001b[0m\u001b[1;33m.\u001b[0m\u001b[0mascii_lowercase\u001b[0m\u001b[1;33m)\u001b[0m \u001b[1;32mfor\u001b[0m \u001b[0mi\u001b[0m \u001b[1;32min\u001b[0m \u001b[0mrange\u001b[0m\u001b[1;33m(\u001b[0m\u001b[1;36m10\u001b[0m\u001b[1;33m)\u001b[0m\u001b[1;33m)\u001b[0m\u001b[1;33m\u001b[0m\u001b[1;33m\u001b[0m\u001b[0m\n\u001b[0;32m      2\u001b[0m \u001b[0msave_path\u001b[0m \u001b[1;33m=\u001b[0m \u001b[1;34mr'C:\\Users\\Instrument\\Desktop\\test\\{}.dat'\u001b[0m\u001b[1;33m.\u001b[0m\u001b[0mformat\u001b[0m\u001b[1;33m(\u001b[0m\u001b[0mrandom_name\u001b[0m\u001b[1;33m)\u001b[0m\u001b[1;33m\u001b[0m\u001b[1;33m\u001b[0m\u001b[0m\n\u001b[1;32m----> 3\u001b[1;33m instrument.trace_save_all(1, save_path, \n\u001b[0m\u001b[0;32m      4\u001b[0m                            \u001b[0mformatted\u001b[0m\u001b[1;33m=\u001b[0m\u001b[1;32mTrue\u001b[0m\u001b[1;33m,\u001b[0m\u001b[1;33m\u001b[0m\u001b[1;33m\u001b[0m\u001b[0m\n\u001b[0;32m      5\u001b[0m                            \u001b[0msave_format\u001b[0m\u001b[1;33m=\u001b[0m\u001b[0mTypes\u001b[0m\u001b[1;33m.\u001b[0m\u001b[0mSaveFormat\u001b[0m\u001b[1;33m.\u001b[0m\u001b[0mCOMPLEX\u001b[0m\u001b[1;33m,\u001b[0m\u001b[1;33m\u001b[0m\u001b[1;33m\u001b[0m\u001b[0m\n",
      "\u001b[1;32m~\\Desktop\\znd-remote-controller\\Instrument.py\u001b[0m in \u001b[0;36mtrace_save_all\u001b[1;34m(self, channel, path, formatted, save_format, dec_separator, field_separator)\u001b[0m\n\u001b[0;32m    102\u001b[0m                        field_separator: Types.FieldSeparator = Types.FieldSeparator.SEMICOLON):\n\u001b[0;32m    103\u001b[0m         \u001b[0mformatted\u001b[0m \u001b[1;33m=\u001b[0m \u001b[1;34m'formatted'\u001b[0m \u001b[1;32mif\u001b[0m \u001b[0mformatted\u001b[0m \u001b[1;32melse\u001b[0m \u001b[1;34m'unformatted'\u001b[0m\u001b[1;33m\u001b[0m\u001b[1;33m\u001b[0m\u001b[0m\n\u001b[1;32m--> 104\u001b[1;33m         self.write(\n\u001b[0m\u001b[0;32m    105\u001b[0m             \u001b[1;34mf\"mmemory:store:trace:channel {channel}, '{path}', {formatted}, \"\u001b[0m\u001b[1;33m\u001b[0m\u001b[1;33m\u001b[0m\u001b[0m\n\u001b[0;32m    106\u001b[0m             f\"{save_format.value}, {dec_separator.value}, {field_separator.value}\")\n",
      "\u001b[1;32m~\\Desktop\\znd-remote-controller\\Instrument.py\u001b[0m in \u001b[0;36mwrite\u001b[1;34m(self, command)\u001b[0m\n\u001b[0;32m     16\u001b[0m     \u001b[1;32mdef\u001b[0m \u001b[0mwrite\u001b[0m\u001b[1;33m(\u001b[0m\u001b[0mself\u001b[0m\u001b[1;33m,\u001b[0m \u001b[0mcommand\u001b[0m\u001b[1;33m:\u001b[0m \u001b[0mstr\u001b[0m\u001b[1;33m)\u001b[0m\u001b[1;33m:\u001b[0m\u001b[1;33m\u001b[0m\u001b[1;33m\u001b[0m\u001b[0m\n\u001b[0;32m     17\u001b[0m         \u001b[1;32mwith\u001b[0m \u001b[0mself\u001b[0m\u001b[1;33m.\u001b[0m\u001b[0mbutton_semaphore\u001b[0m\u001b[1;33m:\u001b[0m\u001b[1;33m\u001b[0m\u001b[1;33m\u001b[0m\u001b[0m\n\u001b[1;32m---> 18\u001b[1;33m             \u001b[0mself\u001b[0m\u001b[1;33m.\u001b[0m\u001b[0minstr\u001b[0m\u001b[1;33m.\u001b[0m\u001b[0mwrite_str_with_opc\u001b[0m\u001b[1;33m(\u001b[0m\u001b[0mcommand\u001b[0m\u001b[1;33m)\u001b[0m\u001b[1;33m\u001b[0m\u001b[1;33m\u001b[0m\u001b[0m\n\u001b[0m\u001b[0;32m     19\u001b[0m \u001b[1;33m\u001b[0m\u001b[0m\n\u001b[0;32m     20\u001b[0m     \u001b[1;32mdef\u001b[0m \u001b[0mquery\u001b[0m\u001b[1;33m(\u001b[0m\u001b[0mself\u001b[0m\u001b[1;33m,\u001b[0m \u001b[0mcommand\u001b[0m\u001b[1;33m:\u001b[0m \u001b[0mstr\u001b[0m\u001b[1;33m)\u001b[0m\u001b[1;33m:\u001b[0m\u001b[1;33m\u001b[0m\u001b[1;33m\u001b[0m\u001b[0m\n",
      "\u001b[1;32mc:\\users\\npest\\desktop\\znd-remote-controller\\venv\\lib\\site-packages\\RsInstrument\\RsInstrument.py\u001b[0m in \u001b[0;36mwrite_str_with_opc\u001b[1;34m(self, cmd, timeout)\u001b[0m\n\u001b[0;32m    304\u001b[0m \t\t\"\"\"Writes the opc-synced command to the instrument.\n\u001b[0;32m    305\u001b[0m \t\tIf you do not provide timeout, the method uses current opc_timeout.\"\"\"\n\u001b[1;32m--> 306\u001b[1;33m                 \u001b[0mself\u001b[0m\u001b[1;33m.\u001b[0m\u001b[0m_core\u001b[0m\u001b[1;33m.\u001b[0m\u001b[0mio\u001b[0m\u001b[1;33m.\u001b[0m\u001b[0mwrite_with_opc\u001b[0m\u001b[1;33m(\u001b[0m\u001b[0mcmd\u001b[0m\u001b[1;33m,\u001b[0m \u001b[0mtimeout\u001b[0m\u001b[1;33m)\u001b[0m\u001b[1;33m\u001b[0m\u001b[1;33m\u001b[0m\u001b[0m\n\u001b[0m\u001b[0;32m    307\u001b[0m \u001b[1;33m\u001b[0m\u001b[0m\n\u001b[0;32m    308\u001b[0m         \u001b[1;32mdef\u001b[0m \u001b[0mquery_str_with_opc\u001b[0m\u001b[1;33m(\u001b[0m\u001b[0mself\u001b[0m\u001b[1;33m,\u001b[0m \u001b[0mquery\u001b[0m\u001b[1;33m:\u001b[0m \u001b[0mstr\u001b[0m\u001b[1;33m,\u001b[0m \u001b[0mtimeout\u001b[0m\u001b[1;33m:\u001b[0m \u001b[0mint\u001b[0m \u001b[1;33m=\u001b[0m \u001b[1;32mNone\u001b[0m\u001b[1;33m)\u001b[0m \u001b[1;33m->\u001b[0m \u001b[0mstr\u001b[0m\u001b[1;33m:\u001b[0m\u001b[1;33m\u001b[0m\u001b[1;33m\u001b[0m\u001b[0m\n",
      "\u001b[1;32mc:\\users\\npest\\desktop\\znd-remote-controller\\venv\\lib\\site-packages\\RsInstrument\\Internal\\Instrument.py\u001b[0m in \u001b[0;36mwrite_with_opc\u001b[1;34m(self, cmd, timeout)\u001b[0m\n\u001b[0;32m    337\u001b[0m                         \u001b[1;32mif\u001b[0m \u001b[0mself\u001b[0m\u001b[1;33m.\u001b[0m\u001b[0mon_write_handler\u001b[0m\u001b[1;33m:\u001b[0m\u001b[1;33m\u001b[0m\u001b[1;33m\u001b[0m\u001b[0m\n\u001b[0;32m    338\u001b[0m                                 \u001b[0mself\u001b[0m\u001b[1;33m.\u001b[0m\u001b[0msend_write_str_event\u001b[0m\u001b[1;33m(\u001b[0m\u001b[0mcmd\u001b[0m\u001b[1;33m,\u001b[0m \u001b[1;32mTrue\u001b[0m\u001b[1;33m)\u001b[0m\u001b[1;33m\u001b[0m\u001b[1;33m\u001b[0m\u001b[0m\n\u001b[1;32m--> 339\u001b[1;33m                         \u001b[0mself\u001b[0m\u001b[1;33m.\u001b[0m\u001b[0mcheck_status\u001b[0m\u001b[1;33m(\u001b[0m\u001b[1;33m)\u001b[0m\u001b[1;33m\u001b[0m\u001b[1;33m\u001b[0m\u001b[0m\n\u001b[0m\u001b[0;32m    340\u001b[0m \u001b[1;33m\u001b[0m\u001b[0m\n\u001b[0;32m    341\u001b[0m         \u001b[1;32mdef\u001b[0m \u001b[0mwrite_struct\u001b[0m\u001b[1;33m(\u001b[0m\u001b[0mself\u001b[0m\u001b[1;33m,\u001b[0m \u001b[0mcmd\u001b[0m\u001b[1;33m:\u001b[0m \u001b[0mstr\u001b[0m\u001b[1;33m,\u001b[0m \u001b[0mstruct\u001b[0m\u001b[1;33m:\u001b[0m \u001b[0mobject\u001b[0m\u001b[1;33m)\u001b[0m \u001b[1;33m->\u001b[0m \u001b[1;32mNone\u001b[0m\u001b[1;33m:\u001b[0m\u001b[1;33m\u001b[0m\u001b[1;33m\u001b[0m\u001b[0m\n",
      "\u001b[1;32mc:\\users\\npest\\desktop\\znd-remote-controller\\venv\\lib\\site-packages\\RsInstrument\\Internal\\Instrument.py\u001b[0m in \u001b[0;36mcheck_status\u001b[1;34m(self)\u001b[0m\n\u001b[0;32m    300\u001b[0m                         \u001b[1;32mif\u001b[0m \u001b[0mcall_syst_error\u001b[0m\u001b[1;33m:\u001b[0m\u001b[1;33m\u001b[0m\u001b[1;33m\u001b[0m\u001b[0m\n\u001b[0;32m    301\u001b[0m                                 \u001b[0merrors\u001b[0m \u001b[1;33m=\u001b[0m \u001b[0mself\u001b[0m\u001b[1;33m.\u001b[0m\u001b[0mquery_all_syst_errors\u001b[0m\u001b[1;33m(\u001b[0m\u001b[1;32mFalse\u001b[0m\u001b[1;33m)\u001b[0m\u001b[1;33m\u001b[0m\u001b[1;33m\u001b[0m\u001b[0m\n\u001b[1;32m--> 302\u001b[1;33m                                 \u001b[0mInstrumentErrors\u001b[0m\u001b[1;33m.\u001b[0m\u001b[0massert_no_instrument_status_errors\u001b[0m\u001b[1;33m(\u001b[0m\u001b[0mself\u001b[0m\u001b[1;33m.\u001b[0m\u001b[0mresource_name\u001b[0m\u001b[1;33m,\u001b[0m \u001b[0merrors\u001b[0m\u001b[1;33m)\u001b[0m\u001b[1;33m\u001b[0m\u001b[1;33m\u001b[0m\u001b[0m\n\u001b[0m\u001b[0;32m    303\u001b[0m \u001b[1;33m\u001b[0m\u001b[0m\n\u001b[0;32m    304\u001b[0m         \u001b[1;32mdef\u001b[0m \u001b[0mclear_status\u001b[0m\u001b[1;33m(\u001b[0m\u001b[0mself\u001b[0m\u001b[1;33m)\u001b[0m \u001b[1;33m->\u001b[0m \u001b[1;32mNone\u001b[0m\u001b[1;33m:\u001b[0m\u001b[1;33m\u001b[0m\u001b[1;33m\u001b[0m\u001b[0m\n",
      "\u001b[1;32mc:\\users\\npest\\desktop\\znd-remote-controller\\venv\\lib\\site-packages\\RsInstrument\\Internal\\InstrumentErrors.py\u001b[0m in \u001b[0;36massert_no_instrument_status_errors\u001b[1;34m(rsrc_name, errors, context)\u001b[0m\n\u001b[0;32m     51\u001b[0m         \u001b[1;32mif\u001b[0m \u001b[0mlen\u001b[0m\u001b[1;33m(\u001b[0m\u001b[0merrors\u001b[0m\u001b[1;33m)\u001b[0m \u001b[1;33m==\u001b[0m \u001b[1;36m1\u001b[0m\u001b[1;33m:\u001b[0m\u001b[1;33m\u001b[0m\u001b[1;33m\u001b[0m\u001b[0m\n\u001b[0;32m     52\u001b[0m                 \u001b[0mmessage\u001b[0m \u001b[1;33m+=\u001b[0m \u001b[1;34mf'Instrument error detected: {errors[0]}'\u001b[0m\u001b[1;33m\u001b[0m\u001b[1;33m\u001b[0m\u001b[0m\n\u001b[1;32m---> 53\u001b[1;33m                 \u001b[1;32mraise\u001b[0m \u001b[0mStatusException\u001b[0m\u001b[1;33m(\u001b[0m\u001b[0mrsrc_name\u001b[0m\u001b[1;33m,\u001b[0m \u001b[0mmessage\u001b[0m\u001b[1;33m)\u001b[0m\u001b[1;33m\u001b[0m\u001b[1;33m\u001b[0m\u001b[0m\n\u001b[0m\u001b[0;32m     54\u001b[0m         \u001b[1;32mif\u001b[0m \u001b[0mlen\u001b[0m\u001b[1;33m(\u001b[0m\u001b[0merrors\u001b[0m\u001b[1;33m)\u001b[0m \u001b[1;33m>\u001b[0m \u001b[1;36m1\u001b[0m\u001b[1;33m:\u001b[0m\u001b[1;33m\u001b[0m\u001b[1;33m\u001b[0m\u001b[0m\n\u001b[0;32m     55\u001b[0m                 \u001b[0mmessage\u001b[0m \u001b[1;33m+=\u001b[0m \u001b[1;34m'{} Instrument errors detected:\\n{}'\u001b[0m\u001b[1;33m.\u001b[0m\u001b[0mformat\u001b[0m\u001b[1;33m(\u001b[0m\u001b[0mlen\u001b[0m\u001b[1;33m(\u001b[0m\u001b[0merrors\u001b[0m\u001b[1;33m)\u001b[0m\u001b[1;33m,\u001b[0m \u001b[1;34m'\\n'\u001b[0m\u001b[1;33m.\u001b[0m\u001b[0mjoin\u001b[0m\u001b[1;33m(\u001b[0m\u001b[0merrors\u001b[0m\u001b[1;33m)\u001b[0m\u001b[1;33m)\u001b[0m\u001b[1;33m\u001b[0m\u001b[1;33m\u001b[0m\u001b[0m\n",
      "\u001b[1;31mStatusException\u001b[0m: 'TCPIP::192.168.0.100::hislip0': Instrument error detected: Execution error;mmemory:store:trace:channel 1, 'C:\\Users\\Instrument\\Desktop\\test\\evtxrhdpuu.dat', formatted, complex, point, semicolon"
     ]
    }
   ],
   "source": [
    "random_name = ''.join(random.choice(string.ascii_lowercase) for i in range(10)) \n",
    "save_path = r'C:\\Users\\Instrument\\Desktop\\test\\{}.dat'.format(random_name)\n",
    "instrument.trace_save_all(1, save_path, \n",
    "                           formatted=True, \n",
    "                           save_format=Types.SaveFormat.COMPLEX, \n",
    "                           dec_separator=Types.DecimalSeparator.POINT, \n",
    "                           field_separator=Types.FieldSeparator.SEMICOLON)"
   ]
  },
  {
   "cell_type": "markdown",
   "id": "social-mailman",
   "metadata": {},
   "source": [
    "## Display"
   ]
  },
  {
   "cell_type": "code",
   "execution_count": null,
   "id": "surgical-liverpool",
   "metadata": {
    "scrolled": true
   },
   "outputs": [],
   "source": [
    "instrument.display_set_mode(Types.DisplayMode.OFF)"
   ]
  },
  {
   "cell_type": "code",
   "execution_count": null,
   "id": "moderate-western",
   "metadata": {},
   "outputs": [],
   "source": [
    "instrument.display_set_mode(Types.DisplayMode.ON)"
   ]
  },
  {
   "cell_type": "markdown",
   "id": "cooked-dutch",
   "metadata": {},
   "source": [
    "## Touchscreen"
   ]
  },
  {
   "cell_type": "code",
   "execution_count": null,
   "id": "corresponding-statement",
   "metadata": {},
   "outputs": [],
   "source": [
    "instrument.touchscreen_set_lock(True)"
   ]
  },
  {
   "cell_type": "markdown",
   "id": "genetic-cooperation",
   "metadata": {},
   "source": [
    "## Window"
   ]
  },
  {
   "cell_type": "code",
   "execution_count": null,
   "id": "resistant-jersey",
   "metadata": {},
   "outputs": [],
   "source": [
    "instrument.window_create(2)"
   ]
  },
  {
   "cell_type": "code",
   "execution_count": null,
   "id": "indonesian-western",
   "metadata": {},
   "outputs": [],
   "source": [
    "instrument.window_remove(2)"
   ]
  }
 ],
 "metadata": {
  "kernelspec": {
   "display_name": "znd-rc",
   "language": "python",
   "name": "znd-rc"
  },
  "language_info": {
   "codemirror_mode": {
    "name": "ipython",
    "version": 3
   },
   "file_extension": ".py",
   "mimetype": "text/x-python",
   "name": "python",
   "nbconvert_exporter": "python",
   "pygments_lexer": "ipython3",
   "version": "3.8.8"
  }
 },
 "nbformat": 4,
 "nbformat_minor": 5
}
