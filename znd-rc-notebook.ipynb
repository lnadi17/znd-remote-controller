{
 "cells": [
  {
   "cell_type": "markdown",
   "id": "statistical-robert",
   "metadata": {},
   "source": [
    "# This notebook stores useful code blocks for ZND Remote Control"
   ]
  },
  {
   "cell_type": "markdown",
   "id": "royal-hardware",
   "metadata": {},
   "source": [
    "## Manual Control\n",
    "Add buttons on touchscreen to enable manual measuring, memorizing sweeps, clearing them, or exporting them all at once."
   ]
  },
  {
   "cell_type": "code",
   "execution_count": 19,
   "id": "living-concrete",
   "metadata": {},
   "outputs": [],
   "source": [
    "from Instrument import Instrument\n",
    "from datetime import datetime\n",
    "import Types\n",
    "from time import sleep"
   ]
  },
  {
   "cell_type": "code",
   "execution_count": 20,
   "id": "enormous-october",
   "metadata": {},
   "outputs": [
    {
     "name": "stdout",
     "output_type": "stream",
     "text": [
      "\n",
      "Hello, I am: 'Rohde-Schwarz,ZND-2Port,1328517092100889,2.80'\n",
      "RsInstrument driver version: 1.18.0.73\n",
      "Visa manufacturer: Rohde & Schwarz GmbH\n",
      "Instrument full name: ZND-2Port\n",
      "Instrument installed options: K1,K6\n"
     ]
    }
   ],
   "source": [
    "# connect to the instrument\n",
    "resource_string = 'TCPIP::192.168.0.169::hislip0'\n",
    "instrument = Instrument(resource_string)\n",
    "instrument.greet()"
   ]
  },
  {
   "cell_type": "raw",
   "id": "79a7eae5",
   "metadata": {},
   "source": [
    "def index_sequence(start_index):\n",
    "    index = start_index\n",
    "    while True:\n",
    "        yield index\n",
    "        index += 1"
   ]
  },
  {
   "cell_type": "code",
   "execution_count": 21,
   "id": "dirty-electron",
   "metadata": {},
   "outputs": [],
   "source": [
    "def measure():\n",
    "    instrument.sweep_initiate_all()"
   ]
  },
  {
   "cell_type": "code",
   "execution_count": 22,
   "id": "loving-palestinian",
   "metadata": {},
   "outputs": [],
   "source": [
    "def memorize():\n",
    "    mem_trace_name = f'MemoryTrace{next(mem_index_gen)}'\n",
    "    instrument.trace_copy(mem_trace_name, 'MainTrace')\n",
    "    instrument.trace_assign_to_window(1, next(trc_index_gen), mem_trace_name)"
   ]
  },
  {
   "cell_type": "code",
   "execution_count": 23,
   "id": "external-script",
   "metadata": {},
   "outputs": [],
   "source": [
    "def export():\n",
    "    save_path = r'C:\\Users\\Instrument\\Desktop\\Data\\Manual_{}.dat'.format(str(datetime.now().strftime(\"%b-%d-%Y_%H-%M-%S\")))\n",
    "    instrument.trace_save_all(1, save_path,\n",
    "                             formatted=True,\n",
    "                             save_format=Types.SaveFormat.COMPLEX,\n",
    "                             dec_separator=Types.DecimalSeparator.POINT,\n",
    "                             field_separator=Types.FieldSeparator.SEMICOLON)"
   ]
  },
  {
   "cell_type": "code",
   "execution_count": 24,
   "id": "infectious-standard",
   "metadata": {},
   "outputs": [],
   "source": [
    "def clear():\n",
    "    global mem_index_gen, trc_index_gen\n",
    "    instrument.trace_delete_all()\n",
    "    instrument.trace_create(1, 'MainTrace', 'S21')\n",
    "    instrument.trace_assign_to_window(1, 1, 'MainTrace')\n",
    "    instrument.trace_format(1, Types.TraceFormat.LINEAR)\n",
    "    instrument.sweep_initiate_all()\n",
    "    instrument.trace_scale_auto(1)\n",
    "    mem_index_gen = index_sequence(1)\n",
    "    trc_index_gen = index_sequence(2)"
   ]
  },
  {
   "cell_type": "code",
   "execution_count": 26,
   "id": "constant-convert",
   "metadata": {},
   "outputs": [],
   "source": [
    "# set up the instrument\n",
    "instrument.reset()\n",
    "instrument.trace_format(1, Types.TraceFormat.SMITH)\n",
    "instrument.trace_rename(1, 'MainTrace')\n",
    "instrument.correction_load(1, 'SMA ideal.cal')\n",
    "instrument.trace_set_points(1, 41)\n",
    "instrument.sweep_set_mode(1, Types.SweepMode.SINGLE)\n",
    "instrument.sweep_initiate_all()\n",
    "instrument.trace_scale_auto(1)\n",
    "# TODO: set trace points to 1000 *\n",
    "# TODO: set timeouts\n",
    "# TODO: set calibration data *\n",
    "# TODO: set display mode \n",
    "# TODO: set trace format *\n",
    "mem_index_gen = index_sequence(1)\n",
    "trc_index_gen = index_sequence(2)"
   ]
  },
  {
   "cell_type": "code",
   "execution_count": 123,
   "id": "anticipated-kelly",
   "metadata": {},
   "outputs": [],
   "source": [
    "# define buttons for manual control\n",
    "instrument.button_define(Types.ButtonNumber.ONE, \"Measure\", measure)\n",
    "instrument.button_define(Types.ButtonNumber.TWO, \"Memorize\", memorize)\n",
    "instrument.button_define(Types.ButtonNumber.THREE, \"Export\", export)\n",
    "instrument.button_define(Types.ButtonNumber.FOUR, \"Clear\", clear)\n",
    "instrument.button_start_listening()"
   ]
  },
  {
   "cell_type": "markdown",
   "id": "extensive-employment",
   "metadata": {},
   "source": [
    "## Autopilot\n",
    "Configure instrument and sweep every **sleep_time** seconds, total of **export_length** times, measuring S21 parameter of the antenna and saving it in \"Data\" folder on Desktop. Output has complex format. Process can be paused, resumed or stopped using buttons on the touchscreen."
   ]
  },
  {
   "cell_type": "code",
   "execution_count": 27,
   "id": "based-browser",
   "metadata": {},
   "outputs": [],
   "source": [
    "from Instrument import Instrument\n",
    "from datetime import datetime\n",
    "import Types\n",
    "from time import sleep"
   ]
  },
  {
   "cell_type": "code",
   "execution_count": 28,
   "id": "written-study",
   "metadata": {},
   "outputs": [
    {
     "name": "stdout",
     "output_type": "stream",
     "text": [
      "\n",
      "Hello, I am: 'Rohde-Schwarz,ZND-2Port,1328517092100889,2.80'\n",
      "RsInstrument driver version: 1.18.0.73\n",
      "Visa manufacturer: Rohde & Schwarz GmbH\n",
      "Instrument full name: ZND-2Port\n",
      "Instrument installed options: K1,K6\n"
     ]
    }
   ],
   "source": [
    "# connect to the instrument\n",
    "resource_string = 'TCPIP::192.168.0.169::hislip0'\n",
    "instrument = Instrument(resource_string)\n",
    "instrument.greet()"
   ]
  },
  {
   "cell_type": "code",
   "execution_count": 29,
   "id": "proprietary-pipeline",
   "metadata": {},
   "outputs": [],
   "source": [
    "def index_sequence(start_index):\n",
    "    index = start_index\n",
    "    while True:\n",
    "        yield index\n",
    "        index += 1"
   ]
  },
  {
   "cell_type": "code",
   "execution_count": 30,
   "id": "religious-doctor",
   "metadata": {},
   "outputs": [],
   "source": [
    "paused = False\n",
    "stopped = False\n",
    "\n",
    "def pause():\n",
    "    global paused\n",
    "    print(\"pause\")\n",
    "    paused = True\n",
    "    \n",
    "def resume():\n",
    "    global paused\n",
    "    print(\"resume\")\n",
    "    paused = False\n",
    "    \n",
    "def stop():\n",
    "    global stopped\n",
    "    print(\"stop\")\n",
    "    stopped = True"
   ]
  },
  {
   "cell_type": "code",
   "execution_count": 31,
   "id": "standard-turtle",
   "metadata": {},
   "outputs": [],
   "source": [
    "# add pause and resume buttons\n",
    "instrument.button_define(Types.ButtonNumber.ONE, \"Pause\", pause)\n",
    "instrument.button_define(Types.ButtonNumber.TWO, \"Resume\", resume)\n",
    "instrument.button_define(Types.ButtonNumber.THREE, \"Stop\", stop)\n",
    "instrument.button_start_listening()"
   ]
  },
  {
   "cell_type": "code",
   "execution_count": 32,
   "id": "amateur-morocco",
   "metadata": {},
   "outputs": [],
   "source": [
    "# set up the instrument\n",
    "instrument.reset()\n",
    "instrument.trace_format(1, Types.TraceFormat.SMITH)\n",
    "instrument.trace_rename(1, 'MainTrace')\n",
    "instrument.correction_load(1, 'SMA ideal.cal')\n",
    "instrument.trace_set_points(1, 50)\n",
    "instrument.sweep_set_mode(1, Types.SweepMode.SINGLE)\n",
    "instrument.write(\"frequency:start 2000000000\") # start frequency\n",
    "instrument.write(\"frequency:stop 5000000000\")\n",
    "# instrument.display_set_mode(Types.DisplayMode.OFF) # comment this for debugging\n",
    "instrument.sweep_initiate_all()\n",
    "instrument.trace_scale_auto(1)\n",
    "mem_index_gen = index_sequence(1)\n",
    "trc_index_gen = index_sequence(2)"
   ]
  },
  {
   "cell_type": "code",
   "execution_count": 34,
   "id": "military-promotion",
   "metadata": {},
   "outputs": [
    {
     "name": "stdout",
     "output_type": "stream",
     "text": [
      "pause\n",
      "resume\n",
      "pause\n",
      "resume\n",
      "pause\n",
      "resume\n",
      "pause\n",
      "resume\n",
      "pause\n",
      "resume\n",
      "pause\n",
      "resume\n",
      "pause\n",
      "resume\n",
      "pause\n",
      "resume\n",
      "pause\n",
      "resume\n",
      "pause\n",
      "resume\n",
      "pause\n",
      "resume\n",
      "pause\n",
      "resume\n",
      "pause\n",
      "resume\n",
      "pause\n",
      "resume\n",
      "pause\n",
      "resume\n",
      "pause\n",
      "resume\n",
      "pause\n",
      "resume\n",
      "pause\n",
      "resume\n",
      "pause\n",
      "resume\n",
      "pause\n",
      "resume\n",
      "pause\n",
      "resume\n",
      "pause\n",
      "resume\n",
      "pause\n",
      "resume\n",
      "pause\n",
      "resume\n",
      "pause\n",
      "resume\n",
      "pause\n",
      "resume\n",
      "pause\n",
      "resume\n",
      "pause\n",
      "resume\n",
      "pause\n",
      "resume\n",
      "pause\n",
      "resume\n",
      "pause\n",
      "resume\n",
      "pause\n",
      "resume\n",
      "pause\n",
      "resume\n",
      "pause\n",
      "resume\n",
      "pause\n",
      "resume\n",
      "pause\n",
      "resume\n",
      "pause\n",
      "resume\n",
      "pause\n",
      "resume\n",
      "pause\n",
      "resume\n",
      "pause\n",
      "resume\n",
      "pause\n",
      "resume\n",
      "pause\n",
      "resume\n",
      "pause\n",
      "resume\n",
      "pause\n",
      "resume\n",
      "pause\n",
      "resume\n",
      "pause\n",
      "resume\n",
      "pause\n",
      "resume\n",
      "pause\n",
      "resume\n",
      "pause\n",
      "resume\n",
      "pause\n",
      "resume\n",
      "pause\n",
      "resume\n",
      "pause\n",
      "resume\n",
      "pause\n",
      "resume\n",
      "pause\n",
      "resume\n",
      "pause\n",
      "resume\n",
      "pause\n",
      "resume\n",
      "pause\n",
      "resume\n",
      "pause\n",
      "resume\n",
      "pause\n",
      "resume\n",
      "pause\n",
      "resume\n",
      "pause\n",
      "resume\n",
      "pause\n",
      "resume\n",
      "pause\n",
      "resume\n",
      "pause\n",
      "resume\n",
      "pause\n",
      "resume\n",
      "pause\n",
      "resume\n",
      "pause\n",
      "resume\n",
      "pause\n",
      "resume\n",
      "pause\n",
      "resume\n",
      "pause\n",
      "resume\n",
      "pause\n",
      "resume\n",
      "pause\n",
      "resume\n",
      "pause\n",
      "resume\n",
      "pause\n",
      "resume\n",
      "pause\n",
      "resume\n",
      "pause\n",
      "resume\n",
      "pause\n",
      "resume\n",
      "pause\n",
      "resume\n",
      "pause\n",
      "resume\n",
      "pause\n",
      "resume\n",
      "pause\n",
      "resume\n",
      "pause\n",
      "resume\n",
      "pause\n",
      "resume\n",
      "pause\n",
      "resume\n",
      "pause\n",
      "resume\n",
      "pause\n",
      "resume\n",
      "pause\n",
      "resume\n",
      "pause\n",
      "resume\n",
      "pause\n",
      "resume\n",
      "pause\n",
      "resume\n",
      "pause\n",
      "resume\n",
      "pause\n",
      "resume\n",
      "pause\n"
     ]
    },
    {
     "ename": "KeyboardInterrupt",
     "evalue": "",
     "output_type": "error",
     "traceback": [
      "\u001b[1;31m---------------------------------------------------------------------------\u001b[0m",
      "\u001b[1;31mKeyboardInterrupt\u001b[0m                         Traceback (most recent call last)",
      "\u001b[1;32mC:\\Users\\NB46E~1.PES\\AppData\\Local\\Temp/ipykernel_7656/1858978144.py\u001b[0m in \u001b[0;36m<module>\u001b[1;34m\u001b[0m\n\u001b[0;32m      5\u001b[0m \u001b[1;33m\u001b[0m\u001b[0m\n\u001b[0;32m      6\u001b[0m \u001b[1;32mwhile\u001b[0m \u001b[1;32mTrue\u001b[0m\u001b[1;33m:\u001b[0m\u001b[1;33m\u001b[0m\u001b[1;33m\u001b[0m\u001b[0m\n\u001b[1;32m----> 7\u001b[1;33m     \u001b[1;32mif\u001b[0m \u001b[0mstopped\u001b[0m\u001b[1;33m:\u001b[0m\u001b[1;33m\u001b[0m\u001b[1;33m\u001b[0m\u001b[0m\n\u001b[0m\u001b[0;32m      8\u001b[0m         \u001b[1;32mbreak\u001b[0m\u001b[1;33m\u001b[0m\u001b[1;33m\u001b[0m\u001b[0m\n\u001b[0;32m      9\u001b[0m     \u001b[1;32mif\u001b[0m \u001b[0mpaused\u001b[0m\u001b[1;33m:\u001b[0m\u001b[1;33m\u001b[0m\u001b[1;33m\u001b[0m\u001b[0m\n",
      "\u001b[1;31mKeyboardInterrupt\u001b[0m: "
     ]
    }
   ],
   "source": [
    "# write autopilot loop\n",
    "export_length = 100\n",
    "sleep_time = 0\n",
    "pause()\n",
    "\n",
    "while True:\n",
    "    if stopped:\n",
    "        break\n",
    "    if paused:\n",
    "        continue\n",
    "    \n",
    "    for _ in range(export_length - 1):\n",
    "        instrument.sweep_initiate_all()\n",
    "        mem_trace_name = f'MemoryTrace{next(mem_index_gen)}'\n",
    "        instrument.trace_copy(mem_trace_name, 'MainTrace')\n",
    "        instrument.trace_assign_to_window(1, next(trc_index_gen), mem_trace_name) # uncomment this for debugging\n",
    "        sleep(sleep_time)\n",
    "    instrument.sweep_initiate_all()\n",
    "        \n",
    "    save_path = r'C:\\Users\\Instrument\\Desktop\\Data\\Auto_RSand_{}.dat'.format(str(datetime.now().strftime(\"%b-%d-%Y_%H-%M-%S\")))\n",
    "    instrument.trace_save_all(1, save_path,\n",
    "                             formatted=True,\n",
    "                             save_format=Types.SaveFormat.COMPLEX,\n",
    "                             dec_separator=Types.DecimalSeparator.POINT,\n",
    "                             field_separator=Types.FieldSeparator.SEMICOLON)\n",
    "    \n",
    "    instrument.trace_delete_all()\n",
    "    instrument.trace_create(1, 'MainTrace', 'S21')\n",
    "    instrument.trace_assign_to_window(1, 1, 'MainTrace') # uncomment this for debugging\n",
    "    instrument.trace_format(1, Types.TraceFormat.SMITH)\n",
    "    instrument.sweep_initiate_all()\n",
    "    instrument.trace_scale_auto(1) # uncomment this for debugging\n",
    "    mem_index_gen = index_sequence(1)\n",
    "    trc_index_gen = index_sequence(2)\n",
    "    pause()"
   ]
  },
  {
   "cell_type": "code",
   "execution_count": 43,
   "id": "minute-economics",
   "metadata": {},
   "outputs": [],
   "source": [
    "from Steppers import Steppers\n",
    "from Instrument import Instrument\n",
    "from datetime import datetime\n",
    "import Types\n",
    "from time import sleep\n",
    "import threading\n",
    "import random\n",
    "\n",
    "class StepperThread(threading.Thread):\n",
    "    def __init__(self):\n",
    "        threading.Thread.__init__(self)\n",
    "        self.steppers = Steppers(port='COM3')\n",
    "        self.steppers.set_ignore_bounds(True)\n",
    "\n",
    "    def run(self):\n",
    "        step = 5\n",
    "        max_side = 150 \n",
    "        side = 0\n",
    "        isX = True\n",
    "        ystep = 0\n",
    "        xstep = 0\n",
    "        while True: \n",
    "          xstep = ystep = 0\n",
    "          for i in range(max_side//step):\n",
    "            if not isX:\n",
    "              if ystep%2 == 1:\n",
    "                self.steppers.move_y(side)\n",
    "                # ymove(side)\n",
    "              else:\n",
    "                self.steppers.move_y(-side)\n",
    "                # ymove(-side)\n",
    "              side=side+step\n",
    "              ystep += 1\n",
    "              isX = not isX\n",
    "            else:\n",
    "              if xstep%2 == 1:\n",
    "                self.steppers.move_x(-side)\n",
    "                # xmove(side)\n",
    "              else:\n",
    "                self.steppers.move_x(side)\n",
    "                # xmove(-side)\n",
    "              side=side+step\n",
    "              isX = not isX\n",
    "              xstep += 1\n",
    "            \n",
    "          xstep = ystep = 0\n",
    "          for i in range(max_side//step):\n",
    "            if not isX:\n",
    "              if ystep%2 == 1:\n",
    "                self.steppers.move_y(-side)\n",
    "                # ymove(side)\n",
    "              else:\n",
    "                self.steppers.move_y(side)\n",
    "                # ymove(-side)\n",
    "              side=side-step\n",
    "              ystep += 1\n",
    "              isX = not isX\n",
    "            else:\n",
    "              if xstep%2 == 1:\n",
    "                self.steppers.move_x(side)\n",
    "                # xmove(side)\n",
    "              else:\n",
    "                self.steppers.move_x(-side)\n",
    "                # xmove(-side)\n",
    "              side=side-step\n",
    "              isX = not isX\n",
    "              xstep += 1"
   ]
  },
  {
   "cell_type": "code",
   "execution_count": 44,
   "id": "south-ferry",
   "metadata": {},
   "outputs": [
    {
     "name": "stdout",
     "output_type": "stream",
     "text": [
      "Serial connection:  Serial<id=0x1757aa9a5b0, open=True>(port='COM3', baudrate=2000000, bytesize=8, parity='N', stopbits=1, timeout=60, xonxoff=False, rtscts=False, dsrdtr=False)\n",
      "Note: Any read command will stop reading if the line contains '~' symbol.\n",
      "Note: All occurrences of '~' symbol will be erased.\n",
      "Program started.\n",
      "=====================\n",
      "Available commands:\n",
      "1. movex\n",
      "2. movey\n",
      "=====================\n",
      "\n"
     ]
    }
   ],
   "source": [
    "stepper_thread = StepperThread()\n",
    "stepper_thread.start()"
   ]
  },
  {
   "cell_type": "markdown",
   "id": "considered-valve",
   "metadata": {},
   "source": [
    "## Steppers"
   ]
  },
  {
   "cell_type": "code",
   "execution_count": 11,
   "id": "adult-bulletin",
   "metadata": {},
   "outputs": [],
   "source": [
    "from Steppers import Steppers\n",
    "from time import sleep"
   ]
  },
  {
   "cell_type": "code",
   "execution_count": 29,
   "id": "hydraulic-frank",
   "metadata": {
    "scrolled": true
   },
   "outputs": [
    {
     "name": "stdout",
     "output_type": "stream",
     "text": [
      "Serial connection:  Serial<id=0x26178fa0100, open=True>(port='COM3', baudrate=2000000, bytesize=8, parity='N', stopbits=1, timeout=60, xonxoff=False, rtscts=False, dsrdtr=False)\n",
      "Note: Any read command will stop reading if the line contains '~' symbol.\n",
      "Note: All occurrences of '~' symbol will be erased.\n",
      "Program started.\n",
      "=====================\n",
      "Available commands:\n",
      "1. movex\n",
      "2. movey\n",
      "=====================\n",
      "\n"
     ]
    }
   ],
   "source": [
    "steppers = Steppers(port='COM3')"
   ]
  },
  {
   "cell_type": "code",
   "execution_count": 31,
   "id": "going-offer",
   "metadata": {},
   "outputs": [],
   "source": [
    "steppers.set_ignore_bounds(True)"
   ]
  },
  {
   "cell_type": "code",
   "execution_count": 17,
   "id": "exceptional-puzzle",
   "metadata": {},
   "outputs": [],
   "source": [
    "steppers.release()"
   ]
  },
  {
   "cell_type": "code",
   "execution_count": 33,
   "id": "16123af8",
   "metadata": {},
   "outputs": [],
   "source": [
    "steppers.attach()"
   ]
  },
  {
   "cell_type": "code",
   "execution_count": 41,
   "id": "forty-drinking",
   "metadata": {},
   "outputs": [],
   "source": [
    "steppers.move_x(-20)"
   ]
  },
  {
   "cell_type": "code",
   "execution_count": 35,
   "id": "simplified-lyric",
   "metadata": {},
   "outputs": [
    {
     "data": {
      "text/plain": [
       "(10, 0)"
      ]
     },
     "execution_count": 35,
     "metadata": {},
     "output_type": "execute_result"
    }
   ],
   "source": [
    "steppers.get_position()"
   ]
  },
  {
   "cell_type": "code",
   "execution_count": null,
   "id": "sufficient-halifax",
   "metadata": {},
   "outputs": [],
   "source": [
    "steppers.set_position(0, 0)"
   ]
  },
  {
   "cell_type": "code",
   "execution_count": null,
   "id": "homeless-mercury",
   "metadata": {
    "pycharm": {
     "name": "#%%\n"
    }
   },
   "outputs": [],
   "source": [
    "steppers.set_home()"
   ]
  },
  {
   "cell_type": "code",
   "execution_count": null,
   "id": "22c2a79d",
   "metadata": {},
   "outputs": [],
   "source": [
    "steppers.go_home()"
   ]
  },
  {
   "cell_type": "markdown",
   "id": "83be7b18",
   "metadata": {},
   "source": [
    "## B-Scan"
   ]
  },
  {
   "cell_type": "code",
   "execution_count": 70,
   "id": "18d9a2e6",
   "metadata": {},
   "outputs": [],
   "source": [
    "from Instrument import Instrument\n",
    "from Steppers import Steppers\n",
    "from datetime import datetime\n",
    "import Types\n",
    "from time import sleep"
   ]
  },
  {
   "cell_type": "code",
   "execution_count": 71,
   "id": "45f28ee6",
   "metadata": {},
   "outputs": [],
   "source": [
    "def b_scan(start, end, steppers, instrument, step_size_mm=10, axis=0, repeat_count=1, sleep_time=0):    \n",
    "    mem_index_gen = index_sequence(1)\n",
    "    \n",
    "    def measure(x, y, measure_count=1):\n",
    "        for _ in range(measure_count):\n",
    "            instrument.sweep_initiate_all()\n",
    "            mem_trace_name = f'MemoryTrace{next(mem_index_gen)}'\n",
    "            instrument.trace_copy(mem_trace_name, 'MainTrace')\n",
    "            sleep(sleep_time)\n",
    "        instrument.sweep_initiate_all()\n",
    "        \n",
    "    step_number = int((abs(end - start)) / step_size_mm)\n",
    "    direction = 1 if (end - start) > 0 else -1\n",
    "    \n",
    "    # go to start position\n",
    "    x = start if axis == 0 else steppers.get_position()[0]\n",
    "    y = start if axis == 1 else steppers.get_position()[1]\n",
    "    steppers.set_position(x, y)\n",
    "    \n",
    "    \n",
    "    for i in range(step_number):\n",
    "        x = direction * step_size_mm if axis == 0 else 0\n",
    "        y = direction * step_size_mm if axis == 1 else 0\n",
    "        measure(x, y, repeat_count)\n",
    "        steppers.move(x, y)\n",
    "    measure(x, y, repeat_count - 1)\n",
    "     \n",
    "    # go to end position\n",
    "    x = end if axis == 0 else steppers.get_position()[0]\n",
    "    y = end if axis == 1 else steppers.get_position()[1]\n",
    "    steppers.set_position(x, y)  \n",
    "    \n",
    "    # save file\n",
    "    save_path = r'C:\\Users\\Instrument\\Desktop\\Data\\Scan_{}_Start_{}_End_{}_Axis_{}.dat'.format(str(datetime.now().strftime(\"%b-%d-%Y_%H-%M-%S\")), start, end, axis)\n",
    "    instrument.trace_save_all(1, save_path,\n",
    "                             formatted=True,\n",
    "                             save_format=Types.SaveFormat.COMPLEX,\n",
    "                             dec_separator=Types.DecimalSeparator.POINT,\n",
    "                             field_separator=Types.FieldSeparator.SEMICOLON)"
   ]
  },
  {
   "cell_type": "code",
   "execution_count": 72,
   "id": "27e62944",
   "metadata": {},
   "outputs": [],
   "source": [
    "def index_sequence(start_index):\n",
    "    index = start_index\n",
    "    while True:\n",
    "        yield index\n",
    "        index += 1"
   ]
  },
  {
   "cell_type": "code",
   "execution_count": 83,
   "id": "c89de7de",
   "metadata": {},
   "outputs": [],
   "source": [
    "def setup_instrument(instrument):\n",
    "    # set up the instrument\n",
    "    instrument.reset()\n",
    "    instrument.trace_delete_all()\n",
    "    instrument.trace_create(1, 'MainTrace', 'S21')\n",
    "    instrument.trace_format(1, Types.TraceFormat.SMITH)\n",
    "    instrument.correction_load(1, 'SMA actual.cal') # or 'SMA ideal.cal'\n",
    "    # chose this bandwith to have 5cm resolution\n",
    "    instrument.write(\"frequency:start 2000000000\") # start frequency\n",
    "    instrument.write(\"frequency:stop 5000000000\") # stop frequency \n",
    "    instrument.trace_set_points(1, 50)\n",
    "    instrument.sweep_set_mode(1, Types.SweepMode.SINGLE)\n",
    "#     instrument.display_set_mode(Types.DisplayMode.OFF) # comment this for debugging\n",
    "    instrument.sweep_initiate_all()"
   ]
  },
  {
   "cell_type": "code",
   "execution_count": 84,
   "id": "6f5967c8",
   "metadata": {},
   "outputs": [],
   "source": [
    "def setup_steppers(steppers):\n",
    "    steppers.release()\n",
    "    steppers.set_ignore_bounds(False)\n",
    "    steppers.set_home()\n",
    "    steppers.attach()\n",
    "    steppers.set_max(500, 800)"
   ]
  },
  {
   "cell_type": "code",
   "execution_count": 75,
   "id": "6f138fc7",
   "metadata": {
    "scrolled": true
   },
   "outputs": [],
   "source": [
    "# steppers = Steppers(port='COM3')"
   ]
  },
  {
   "cell_type": "code",
   "execution_count": 85,
   "id": "successful-values",
   "metadata": {
    "scrolled": true
   },
   "outputs": [
    {
     "name": "stdout",
     "output_type": "stream",
     "text": [
      "\n",
      "Hello, I am: 'Rohde-Schwarz,ZND-2Port,1328517092100889,2.80'\n",
      "RsInstrument driver version: 1.9.0.52\n",
      "Visa manufacturer: Rohde & Schwarz GmbH\n",
      "Instrument full name: ZND-2Port\n",
      "Instrument installed options: K1,K6\n"
     ]
    }
   ],
   "source": [
    "resource_string = 'TCPIP::192.168.0.169::hislip0'\n",
    "instrument = Instrument(resource_string)\n",
    "instrument.greet()"
   ]
  },
  {
   "cell_type": "code",
   "execution_count": 77,
   "id": "09e89a19",
   "metadata": {},
   "outputs": [],
   "source": [
    "# setup_steppers(steppers)"
   ]
  },
  {
   "cell_type": "code",
   "execution_count": 86,
   "id": "spread-guide",
   "metadata": {},
   "outputs": [],
   "source": [
    "setup_instrument(instrument)"
   ]
  },
  {
   "cell_type": "code",
   "execution_count": 65,
   "id": "38ead6b5",
   "metadata": {},
   "outputs": [],
   "source": [
    "# def c_scan(x_min, x_max, y_min, y_max, steppers, instrument, step_size_mm=10, sleep_time=0):\n",
    "#     step_number_y = int((y_max - y_min) / step_size_mm)\n",
    "    \n",
    "#     for i in range(step_number_y):\n",
    "#         b_scan(x_min, x_max, steppers, instrument, step_size_mm, 0, sleep_time)\n",
    "        \n",
    "#         # swap x_min and x_max\n",
    "#         temp = x_min\n",
    "#         x_min = x_max\n",
    "#         x_max = temp\n",
    "        \n",
    "#         steppers.move(0, step_size_mm)"
   ]
  },
  {
   "cell_type": "code",
   "execution_count": 82,
   "id": "opposed-premium",
   "metadata": {},
   "outputs": [],
   "source": [
    "b_scan(0, 800, steppers, instrument, step_size_mm=20, axis=1, repeat_count=1, sleep_time=0)"
   ]
  },
  {
   "cell_type": "code",
   "execution_count": null,
   "id": "3117ac97",
   "metadata": {},
   "outputs": [],
   "source": [
    "# c_scan(0, 500, 0, 800, steppers, instrument, 50, 0)"
   ]
  },
  {
   "cell_type": "code",
   "execution_count": 79,
   "id": "continent-catch",
   "metadata": {},
   "outputs": [
    {
     "name": "stdout",
     "output_type": "stream",
     "text": [
      "Serial connection:  Serial<id=0x26178fce550, open=True>(port='COM3', baudrate=2000000, bytesize=8, parity='N', stopbits=1, timeout=60, xonxoff=False, rtscts=False, dsrdtr=False)\n",
      "Note: Any read command will stop reading if the line contains '~' symbol.\n",
      "Note: All occurrences of '~' symbol will be erased.\n",
      "Program started.\n",
      "=====================\n",
      "Available commands:\n",
      "1. movex\n",
      "2. movey\n",
      "=====================\n",
      "\n"
     ]
    }
   ],
   "source": [
    "steppers = Steppers(port='COM3')"
   ]
  },
  {
   "cell_type": "code",
   "execution_count": 87,
   "id": "perfect-canadian",
   "metadata": {},
   "outputs": [],
   "source": [
    "steppers.release()"
   ]
  },
  {
   "cell_type": "code",
   "execution_count": 81,
   "id": "waiting-smart",
   "metadata": {},
   "outputs": [],
   "source": [
    "steppers.attach()"
   ]
  }
 ],
 "metadata": {
  "kernelspec": {
   "display_name": "Python 3 (ipykernel)",
   "language": "python",
   "name": "python3"
  },
  "language_info": {
   "codemirror_mode": {
    "name": "ipython",
    "version": 3
   },
   "file_extension": ".py",
   "mimetype": "text/x-python",
   "name": "python",
   "nbconvert_exporter": "python",
   "pygments_lexer": "ipython3",
   "version": "3.8.10"
  }
 },
 "nbformat": 4,
 "nbformat_minor": 5
}
