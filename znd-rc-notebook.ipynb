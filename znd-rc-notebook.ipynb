{
 "cells": [
  {
   "cell_type": "markdown",
   "id": "statistical-robert",
   "metadata": {},
   "source": [
    "# This notebook stores useful code blocks for ZND Remote Control"
   ]
  },
  {
   "cell_type": "markdown",
   "id": "royal-hardware",
   "metadata": {},
   "source": [
    "## Manual Control\n",
    "Add buttons on touchscreen to enable manual measuring, memorizing sweeps, clearing them, or exporting them all at once."
   ]
  },
  {
   "cell_type": "code",
   "execution_count": null,
   "id": "living-concrete",
   "metadata": {},
   "outputs": [],
   "source": [
    "from Instrument import Instrument\n",
    "from datetime import datetime\n",
    "import Types\n",
    "from time import sleep"
   ]
  },
  {
   "cell_type": "code",
   "execution_count": null,
   "id": "enormous-october",
   "metadata": {},
   "outputs": [],
   "source": [
    "# connect to the instrument\n",
    "resource_string = 'TCPIP::192.168.0.169::hislip0'\n",
    "instrument = Instrument(resource_string)\n",
    "instrument.greet()"
   ]
  },
  {
   "cell_type": "raw",
   "id": "79a7eae5",
   "metadata": {},
   "source": [
    "def index_sequence(start_index):\n",
    "    index = start_index\n",
    "    while True:\n",
    "        yield index\n",
    "        index += 1"
   ]
  },
  {
   "cell_type": "code",
   "execution_count": null,
   "id": "dirty-electron",
   "metadata": {},
   "outputs": [],
   "source": [
    "def measure():\n",
    "    instrument.sweep_initiate_all()"
   ]
  },
  {
   "cell_type": "code",
   "execution_count": null,
   "id": "loving-palestinian",
   "metadata": {},
   "outputs": [],
   "source": [
    "def memorize():\n",
    "    mem_trace_name = f'MemoryTrace{next(mem_index_gen)}'\n",
    "    instrument.trace_copy(mem_trace_name, 'MainTrace')\n",
    "    instrument.trace_assign_to_window(1, next(trc_index_gen), mem_trace_name)"
   ]
  },
  {
   "cell_type": "code",
   "execution_count": null,
   "id": "external-script",
   "metadata": {},
   "outputs": [],
   "source": [
    "def export():\n",
    "    save_path = r'C:\\Users\\Instrument\\Desktop\\Data\\Manual_{}.dat'.format(str(datetime.now().strftime(\"%b-%d-%Y_%H-%M-%S\")))\n",
    "    instrument.trace_save_all(1, save_path,\n",
    "                             formatted=True,\n",
    "                             save_format=Types.SaveFormat.COMPLEX,\n",
    "                             dec_separator=Types.DecimalSeparator.POINT,\n",
    "                             field_separator=Types.FieldSeparator.SEMICOLON)"
   ]
  },
  {
   "cell_type": "code",
   "execution_count": null,
   "id": "infectious-standard",
   "metadata": {},
   "outputs": [],
   "source": [
    "def clear():\n",
    "    global mem_index_gen, trc_index_gen\n",
    "    instrument.trace_delete_all()\n",
    "    instrument.trace_create(1, 'MainTrace', 'S21')\n",
    "    instrument.trace_assign_to_window(1, 1, 'MainTrace')\n",
    "    instrument.trace_format(1, Types.TraceFormat.LINEAR)\n",
    "    instrument.sweep_initiate_all()\n",
    "    instrument.trace_scale_auto(1)\n",
    "    mem_index_gen = index_sequence(1)\n",
    "    trc_index_gen = index_sequence(2)"
   ]
  },
  {
   "cell_type": "code",
   "execution_count": null,
   "id": "constant-convert",
   "metadata": {},
   "outputs": [],
   "source": [
    "# set up the instrument\n",
    "instrument.reset()\n",
    "instrument.trace_format(1, Types.TraceFormat.LINEAR)\n",
    "instrument.trace_rename(1, 'MainTrace')\n",
    "instrument.correction_load(1, 'SMA Ideal.cal')\n",
    "instrument.trace_set_points(1, 1000)\n",
    "instrument.sweep_set_mode(1, Types.SweepMode.SINGLE)\n",
    "instrument.sweep_initiate_all()\n",
    "instrument.trace_scale_auto(1)\n",
    "# TODO: set trace points to 1000 *\n",
    "# TODO: set timeouts\n",
    "# TODO: set calibration data *\n",
    "# TODO: set display mode \n",
    "# TODO: set trace format *\n",
    "mem_index_gen = index_sequence(1)\n",
    "trc_index_gen = index_sequence(2)"
   ]
  },
  {
   "cell_type": "code",
   "execution_count": null,
   "id": "anticipated-kelly",
   "metadata": {},
   "outputs": [],
   "source": [
    "# define buttons for manual control\n",
    "instrument.button_define(Types.ButtonNumber.ONE, \"Measure\", measure)\n",
    "instrument.button_define(Types.ButtonNumber.TWO, \"Memorize\", memorize)\n",
    "instrument.button_define(Types.ButtonNumber.THREE, \"Export\", export)\n",
    "instrument.button_define(Types.ButtonNumber.FOUR, \"Clear\", clear)\n",
    "instrument.button_start_listening()"
   ]
  },
  {
   "cell_type": "markdown",
   "id": "extensive-employment",
   "metadata": {},
   "source": [
    "## Autopilot\n",
    "Configure instrument and sweep every **sleep_time** seconds, total of **export_length** times, measuring S21 parameter of the antenna and saving it in \"Data\" folder on Desktop. Output has complex format. Process can be paused, resumed or stopped using buttons on the touchscreen."
   ]
  },
  {
   "cell_type": "code",
   "execution_count": null,
   "id": "based-browser",
   "metadata": {},
   "outputs": [],
   "source": [
    "from Instrument import Instrument\n",
    "from datetime import datetime\n",
    "import Types\n",
    "from time import sleep"
   ]
  },
  {
   "cell_type": "code",
   "execution_count": null,
   "id": "written-study",
   "metadata": {},
   "outputs": [],
   "source": [
    "# connect to the instrument\n",
    "resource_string = 'TCPIP::192.168.0.169::hislip0'\n",
    "instrument = Instrument(resource_string)\n",
    "instrument.greet()"
   ]
  },
  {
   "cell_type": "code",
   "execution_count": null,
   "id": "proprietary-pipeline",
   "metadata": {},
   "outputs": [],
   "source": [
    "def index_sequence(start_index):\n",
    "    index = start_index\n",
    "    while True:\n",
    "        yield index\n",
    "        index += 1"
   ]
  },
  {
   "cell_type": "code",
   "execution_count": null,
   "id": "religious-doctor",
   "metadata": {},
   "outputs": [],
   "source": [
    "paused = False\n",
    "stopped = False\n",
    "\n",
    "def pause():\n",
    "    global paused\n",
    "    paused = True\n",
    "    \n",
    "def resume():\n",
    "    global paused\n",
    "    paused = False\n",
    "    \n",
    "def stop():\n",
    "    global stopped\n",
    "    stopped = True"
   ]
  },
  {
   "cell_type": "code",
   "execution_count": null,
   "id": "standard-turtle",
   "metadata": {},
   "outputs": [],
   "source": [
    "# add pause and resume buttons\n",
    "instrument.button_define(Types.ButtonNumber.ONE, \"Pause\", pause)\n",
    "instrument.button_define(Types.ButtonNumber.TWO, \"Resume\", resume)\n",
    "instrument.button_define(Types.ButtonNumber.THREE, \"Stop\", stop)"
   ]
  },
  {
   "cell_type": "code",
   "execution_count": null,
   "id": "amateur-morocco",
   "metadata": {},
   "outputs": [],
   "source": [
    "# set up the instrument\n",
    "instrument.reset()\n",
    "instrument.trace_format(1, Types.TraceFormat.SMITH)\n",
    "instrument.trace_rename(1, 'MainTrace')\n",
    "instrument.correction_load(1, 'SMA Ideal.cal')\n",
    "instrument.trace_set_points(1, 1000)\n",
    "instrument.sweep_set_mode(1, Types.SweepMode.SINGLE)\n",
    "instrument.display_set_mode(Types.DisplayMode.OFF) # comment this for debugging\n",
    "instrument.sweep_initiate_all()\n",
    "instrument.trace_scale_auto(1)\n",
    "mem_index_gen = index_sequence(1)\n",
    "trc_index_gen = index_sequence(2)"
   ]
  },
  {
   "cell_type": "code",
   "execution_count": null,
   "id": "military-promotion",
   "metadata": {},
   "outputs": [],
   "source": [
    "# write autopilot loop\n",
    "export_length = 20\n",
    "sleep_time = 500e-3\n",
    "\n",
    "while True:\n",
    "    if stopped:\n",
    "        break\n",
    "    if paused:\n",
    "        continue\n",
    "    \n",
    "    for _ in range(export_length - 1):\n",
    "        instrument.sweep_initiate_all()\n",
    "        mem_trace_name = f'MemoryTrace{next(mem_index_gen)}'\n",
    "        instrument.trace_copy(mem_trace_name, 'MainTrace')\n",
    "        # instrument.trace_assign_to_window(1, next(trc_index_gen), mem_trace_name) # uncomment this for debugging\n",
    "        sleep(sleep_time)\n",
    "    instrument.sweep_initiate_all()\n",
    "        \n",
    "    save_path = r'C:\\Users\\Instrument\\Desktop\\Data\\Auto_{}.dat'.format(str(datetime.now().strftime(\"%b-%d-%Y_%H-%M-%S\")))\n",
    "    instrument.trace_save_all(1, save_path,\n",
    "                             formatted=True,\n",
    "                             save_format=Types.SaveFormat.COMPLEX,\n",
    "                             dec_separator=Types.DecimalSeparator.POINT,\n",
    "                             field_separator=Types.FieldSeparator.SEMICOLON)\n",
    "    \n",
    "    instrument.trace_delete_all()\n",
    "    instrument.trace_create(1, 'MainTrace', 'S21')\n",
    "    # instrument.trace_assign_to_window(1, 1, 'MainTrace') # uncomment this for debugging\n",
    "    instrument.trace_format(1, Types.TraceFormat.SMITH)\n",
    "    instrument.sweep_initiate_all()\n",
    "    # instrument.trace_scale_auto(1) # uncomment this for debugging\n",
    "    mem_index_gen = index_sequence(1)\n",
    "    trc_index_gen = index_sequence(2)"
   ]
  },
  {
   "cell_type": "markdown",
   "id": "considered-valve",
   "metadata": {},
   "source": [
    "## Steppers"
   ]
  },
  {
   "cell_type": "code",
   "execution_count": 1,
   "id": "adult-bulletin",
   "metadata": {},
   "outputs": [],
   "source": [
    "from Steppers import Steppers\n",
    "from time import sleep"
   ]
  },
  {
   "cell_type": "code",
   "execution_count": 2,
   "id": "hydraulic-frank",
   "metadata": {},
   "outputs": [
    {
     "name": "stdout",
     "output_type": "stream",
     "text": [
      "Serial connection:  Serial<id=0x1e162daa970, open=True>(port='COM5', baudrate=9600, bytesize=8, parity='N', stopbits=1, timeout=60, xonxoff=False, rtscts=False, dsrdtr=False)\n",
      "Note: Any read command will stop reading if the line contains '~' symbol.\n",
      "Note: All occurrences of '~' symbol will be erased.\n",
      "Program started.\n",
      "=====================\n",
      "Available commands:\n",
      "1. movex\n",
      "2. movey\n",
      "=====================\n",
      "\n"
     ]
    }
   ],
   "source": [
    "steppers = Steppers(port='COM5')"
   ]
  },
  {
   "cell_type": "code",
   "execution_count": 6,
   "id": "exceptional-puzzle",
   "metadata": {},
   "outputs": [],
   "source": [
    "steppers.release()"
   ]
  },
  {
   "cell_type": "code",
   "execution_count": 11,
   "id": "16123af8",
   "metadata": {},
   "outputs": [],
   "source": [
    "steppers.attach()"
   ]
  },
  {
   "cell_type": "code",
   "execution_count": null,
   "id": "forty-drinking",
   "metadata": {},
   "outputs": [],
   "source": [
    "steppers.move_x(-50)"
   ]
  },
  {
   "cell_type": "code",
   "execution_count": 10,
   "id": "simplified-lyric",
   "metadata": {},
   "outputs": [
    {
     "data": {
      "text/plain": [
       "(500, 0)"
      ]
     },
     "execution_count": 10,
     "metadata": {},
     "output_type": "execute_result"
    }
   ],
   "source": [
    "steppers.get_position()"
   ]
  },
  {
   "cell_type": "code",
   "execution_count": 7,
   "id": "sufficient-halifax",
   "metadata": {},
   "outputs": [],
   "source": [
    "steppers.set_position(500, 0)"
   ]
  },
  {
   "cell_type": "code",
   "execution_count": null,
   "id": "homeless-mercury",
   "metadata": {
    "pycharm": {
     "name": "#%%\n"
    }
   },
   "outputs": [],
   "source": [
    "steppers.set_home()"
   ]
  },
  {
   "cell_type": "code",
   "execution_count": 12,
   "id": "22c2a79d",
   "metadata": {},
   "outputs": [],
   "source": [
    "steppers.go_home()"
   ]
  },
  {
   "cell_type": "markdown",
   "id": "83be7b18",
   "metadata": {},
   "source": [
    "## B-Scan"
   ]
  },
  {
   "cell_type": "code",
   "execution_count": 15,
   "id": "18d9a2e6",
   "metadata": {},
   "outputs": [],
   "source": [
    "from Instrument import Instrument\n",
    "from Steppers import Steppers\n",
    "from datetime import datetime\n",
    "import Types\n",
    "from time import sleep"
   ]
  },
  {
   "cell_type": "code",
   "execution_count": 16,
   "id": "45f28ee6",
   "metadata": {},
   "outputs": [],
   "source": [
    "def b_scan(start, end, steppers, instrument, step_size_mm=10, axis=0, sleep_time=0):\n",
    "    mem_index_gen = index_sequence(1)\n",
    "    \n",
    "    def measure(x, y, measure_count=1):\n",
    "        for _ in range(measure_count):\n",
    "            instrument.sweep_initiate_all()\n",
    "            mem_trace_name = f'MemoryTrace{next(mem_index_gen)}'\n",
    "            instrument.trace_copy(mem_trace_name, 'MainTrace')\n",
    "            sleep(sleep_time)\n",
    "        instrument.sweep_initiate_all()\n",
    "        \n",
    "    step_number = int((abs(end - start)) / step_size_mm)\n",
    "    direction = 1 if (end - start) > 0 else -1\n",
    "    \n",
    "    # go to start position\n",
    "    x = start if axis == 0 else steppers.get_position()[0]\n",
    "    y = start if axis == 1 else steppers.get_position()[1]\n",
    "    steppers.set_position(x, y)\n",
    "    \n",
    "    \n",
    "    for i in range(step_number):\n",
    "        x = direction * step_size_mm if axis == 0 else 0\n",
    "        y = direction * step_size_mm if axis == 1 else 0\n",
    "        measure(x, y, 5)\n",
    "        steppers.move(x, y)\n",
    "    measure(x, y, 4)\n",
    "     \n",
    "    # go to end position\n",
    "    x = end if axis == 0 else steppers.get_position()[0]\n",
    "    y = end if axis == 1 else steppers.get_position()[1]\n",
    "    steppers.set_position(x, y)  \n",
    "    \n",
    "    # save file\n",
    "    save_path = r'C:\\Users\\Instrument\\Desktop\\Data\\Scan_{}_Start_{}_End_{}_Axis_{}.dat'.format(str(datetime.now().strftime(\"%b-%d-%Y_%H-%M-%S\")), start, end, axis)\n",
    "    instrument.trace_save_all(1, save_path,\n",
    "                             formatted=True,\n",
    "                             save_format=Types.SaveFormat.COMPLEX,\n",
    "                             dec_separator=Types.DecimalSeparator.POINT,\n",
    "                             field_separator=Types.FieldSeparator.SEMICOLON)\n",
    "\n",
    "    instrument.trace_delete_all()\n",
    "    instrument.trace_create(1, 'MainTrace', 'S21')\n",
    "    instrument.trace_format(1, Types.TraceFormat.SMITH)\n",
    "    instrument.sweep_initiate_all()"
   ]
  },
  {
   "cell_type": "code",
   "execution_count": 17,
   "id": "27e62944",
   "metadata": {},
   "outputs": [],
   "source": [
    "def index_sequence(start_index):\n",
    "    index = start_index\n",
    "    while True:\n",
    "        yield index\n",
    "        index += 1"
   ]
  },
  {
   "cell_type": "code",
   "execution_count": 18,
   "id": "c89de7de",
   "metadata": {},
   "outputs": [],
   "source": [
    "def setup_instrument(instrument):\n",
    "    # set up the instrument\n",
    "    instrument.reset()\n",
    "    instrument.trace_format(1, Types.TraceFormat.SMITH)\n",
    "    instrument.trace_rename(1, 'MainTrace')\n",
    "    instrument.correction_load(1, 'SMA Ideal.cal')\n",
    "    instrument.trace_set_points(1, 1000)\n",
    "    instrument.sweep_set_mode(1, Types.SweepMode.SINGLE)\n",
    "    instrument.display_set_mode(Types.DisplayMode.OFF) # comment this for debugging\n",
    "    instrument.sweep_initiate_all()"
   ]
  },
  {
   "cell_type": "code",
   "execution_count": null,
   "id": "6f5967c8",
   "metadata": {},
   "outputs": [],
   "source": [
    "def setup_steppers(steppers):\n",
    "    steppers.release()\n",
    "    steppers.set_ignore_bounds(False)\n",
    "    steppers.set_home()\n",
    "    steppers.attach()\n",
    "    steppers.set_max(500, 800)"
   ]
  },
  {
   "cell_type": "code",
   "execution_count": null,
   "id": "6f138fc7",
   "metadata": {},
   "outputs": [],
   "source": [
    "steppers = Steppers(port='COM5')"
   ]
  },
  {
   "cell_type": "code",
   "execution_count": 20,
   "id": "successful-values",
   "metadata": {},
   "outputs": [
    {
     "name": "stdout",
     "output_type": "stream",
     "text": [
      "\n",
      "Hello, I am: 'Rohde-Schwarz,ZND-2Port,1328517092100889,2.80'\n",
      "RsInstrument driver version: 1.9.0.52\n",
      "Visa manufacturer: Rohde & Schwarz GmbH\n",
      "Instrument full name: ZND-2Port\n",
      "Instrument installed options: K1,K6\n"
     ]
    }
   ],
   "source": [
    "resource_string = 'TCPIP::192.168.0.169::hislip0'\n",
    "instrument = Instrument(resource_string)\n",
    "instrument.greet()"
   ]
  },
  {
   "cell_type": "code",
   "execution_count": null,
   "id": "09e89a19",
   "metadata": {},
   "outputs": [],
   "source": [
    "setup_steppers(steppers)"
   ]
  },
  {
   "cell_type": "code",
   "execution_count": null,
   "id": "38ead6b5",
   "metadata": {},
   "outputs": [],
   "source": [
    "def c_scan(x_min, x_max, y_min, y_max, steppers, instrument, step_size_mm=10, sleep_time=0):\n",
    "    step_number_y = int((y_max - y_min) / step_size_mm)\n",
    "    \n",
    "    for i in range(step_number_y):\n",
    "        b_scan(x_min, x_max, steppers, instrument, step_size_mm, 0, sleep_time)\n",
    "        \n",
    "        # swap x_min and x_max\n",
    "        temp = x_min\n",
    "        x_min = x_max\n",
    "        x_max = temp\n",
    "        \n",
    "        steppers.move(0, step_size_mm)"
   ]
  },
  {
   "cell_type": "code",
   "execution_count": 21,
   "id": "opposed-premium",
   "metadata": {},
   "outputs": [
    {
     "ename": "UnicodeDecodeError",
     "evalue": "'utf-8' codec can't decode byte 0xf6 in position 2: invalid start byte",
     "output_type": "error",
     "traceback": [
      "\u001b[1;31m---------------------------------------------------------------------------\u001b[0m",
      "\u001b[1;31mUnicodeDecodeError\u001b[0m                        Traceback (most recent call last)",
      "\u001b[1;32m<ipython-input-21-dbc1cb68295e>\u001b[0m in \u001b[0;36m<module>\u001b[1;34m\u001b[0m\n\u001b[1;32m----> 1\u001b[1;33m \u001b[0mb_scan\u001b[0m\u001b[1;33m(\u001b[0m\u001b[1;36m0\u001b[0m\u001b[1;33m,\u001b[0m \u001b[1;36m500\u001b[0m\u001b[1;33m,\u001b[0m \u001b[0msteppers\u001b[0m\u001b[1;33m,\u001b[0m \u001b[0minstrument\u001b[0m\u001b[1;33m,\u001b[0m \u001b[1;36m4\u001b[0m\u001b[1;33m,\u001b[0m \u001b[1;36m0\u001b[0m\u001b[1;33m,\u001b[0m \u001b[1;36m0\u001b[0m\u001b[1;33m)\u001b[0m\u001b[1;33m\u001b[0m\u001b[1;33m\u001b[0m\u001b[0m\n\u001b[0m",
      "\u001b[1;32m<ipython-input-16-13d4d59d16b9>\u001b[0m in \u001b[0;36mb_scan\u001b[1;34m(start, end, steppers, instrument, step_size_mm, axis, sleep_time)\u001b[0m\n\u001b[0;32m     23\u001b[0m         \u001b[0my\u001b[0m \u001b[1;33m=\u001b[0m \u001b[0mdirection\u001b[0m \u001b[1;33m*\u001b[0m \u001b[0mstep_size_mm\u001b[0m \u001b[1;32mif\u001b[0m \u001b[0maxis\u001b[0m \u001b[1;33m==\u001b[0m \u001b[1;36m1\u001b[0m \u001b[1;32melse\u001b[0m \u001b[1;36m0\u001b[0m\u001b[1;33m\u001b[0m\u001b[1;33m\u001b[0m\u001b[0m\n\u001b[0;32m     24\u001b[0m         \u001b[0mmeasure\u001b[0m\u001b[1;33m(\u001b[0m\u001b[0mx\u001b[0m\u001b[1;33m,\u001b[0m \u001b[0my\u001b[0m\u001b[1;33m,\u001b[0m \u001b[1;36m5\u001b[0m\u001b[1;33m)\u001b[0m\u001b[1;33m\u001b[0m\u001b[1;33m\u001b[0m\u001b[0m\n\u001b[1;32m---> 25\u001b[1;33m         \u001b[0msteppers\u001b[0m\u001b[1;33m.\u001b[0m\u001b[0mmove\u001b[0m\u001b[1;33m(\u001b[0m\u001b[0mx\u001b[0m\u001b[1;33m,\u001b[0m \u001b[0my\u001b[0m\u001b[1;33m)\u001b[0m\u001b[1;33m\u001b[0m\u001b[1;33m\u001b[0m\u001b[0m\n\u001b[0m\u001b[0;32m     26\u001b[0m     \u001b[0mmeasure\u001b[0m\u001b[1;33m(\u001b[0m\u001b[0mx\u001b[0m\u001b[1;33m,\u001b[0m \u001b[0my\u001b[0m\u001b[1;33m,\u001b[0m \u001b[1;36m4\u001b[0m\u001b[1;33m)\u001b[0m\u001b[1;33m\u001b[0m\u001b[1;33m\u001b[0m\u001b[0m\n\u001b[0;32m     27\u001b[0m \u001b[1;33m\u001b[0m\u001b[0m\n",
      "\u001b[1;32m~\\Documents\\GitHub\\znd-remote-controller\\Steppers.py\u001b[0m in \u001b[0;36mmove\u001b[1;34m(self, mm_x, mm_y, first_axis)\u001b[0m\n\u001b[0;32m     54\u001b[0m         \u001b[1;32mif\u001b[0m \u001b[0mfirst_axis\u001b[0m \u001b[1;33m==\u001b[0m \u001b[1;36m0\u001b[0m\u001b[1;33m:\u001b[0m\u001b[1;33m\u001b[0m\u001b[1;33m\u001b[0m\u001b[0m\n\u001b[0;32m     55\u001b[0m             \u001b[0mself\u001b[0m\u001b[1;33m.\u001b[0m\u001b[0mmove_x\u001b[0m\u001b[1;33m(\u001b[0m\u001b[0mmm_x\u001b[0m\u001b[1;33m)\u001b[0m\u001b[1;33m\u001b[0m\u001b[1;33m\u001b[0m\u001b[0m\n\u001b[1;32m---> 56\u001b[1;33m             \u001b[0mself\u001b[0m\u001b[1;33m.\u001b[0m\u001b[0mmove_y\u001b[0m\u001b[1;33m(\u001b[0m\u001b[0mmm_y\u001b[0m\u001b[1;33m)\u001b[0m\u001b[1;33m\u001b[0m\u001b[1;33m\u001b[0m\u001b[0m\n\u001b[0m\u001b[0;32m     57\u001b[0m         \u001b[1;32mif\u001b[0m \u001b[0mfirst_axis\u001b[0m \u001b[1;33m==\u001b[0m \u001b[1;36m1\u001b[0m\u001b[1;33m:\u001b[0m\u001b[1;33m\u001b[0m\u001b[1;33m\u001b[0m\u001b[0m\n\u001b[0;32m     58\u001b[0m             \u001b[0mself\u001b[0m\u001b[1;33m.\u001b[0m\u001b[0mmove_y\u001b[0m\u001b[1;33m(\u001b[0m\u001b[0mmm_y\u001b[0m\u001b[1;33m)\u001b[0m\u001b[1;33m\u001b[0m\u001b[1;33m\u001b[0m\u001b[0m\n",
      "\u001b[1;32m~\\Documents\\GitHub\\znd-remote-controller\\Steppers.py\u001b[0m in \u001b[0;36mmove_y\u001b[1;34m(self, mm)\u001b[0m\n\u001b[0;32m     74\u001b[0m         \u001b[1;32mif\u001b[0m \u001b[1;32mnot\u001b[0m \u001b[0mself\u001b[0m\u001b[1;33m.\u001b[0m\u001b[0mignore_bounds\u001b[0m \u001b[1;32mand\u001b[0m \u001b[1;32mnot\u001b[0m \u001b[1;33m(\u001b[0m\u001b[1;36m0\u001b[0m \u001b[1;33m<=\u001b[0m \u001b[0mfuture_position\u001b[0m\u001b[1;33m[\u001b[0m\u001b[1;36m1\u001b[0m\u001b[1;33m]\u001b[0m \u001b[1;33m<=\u001b[0m \u001b[0mself\u001b[0m\u001b[1;33m.\u001b[0m\u001b[0mmax\u001b[0m\u001b[1;33m[\u001b[0m\u001b[1;36m1\u001b[0m\u001b[1;33m]\u001b[0m\u001b[1;33m)\u001b[0m\u001b[1;33m:\u001b[0m\u001b[1;33m\u001b[0m\u001b[1;33m\u001b[0m\u001b[0m\n\u001b[0;32m     75\u001b[0m             \u001b[1;32mreturn\u001b[0m\u001b[1;33m\u001b[0m\u001b[1;33m\u001b[0m\u001b[0m\n\u001b[1;32m---> 76\u001b[1;33m         \u001b[0mself\u001b[0m\u001b[1;33m.\u001b[0m\u001b[0mquery\u001b[0m\u001b[1;33m(\u001b[0m\u001b[1;34mf'movey {mm}'\u001b[0m\u001b[1;33m)\u001b[0m\u001b[1;33m\u001b[0m\u001b[1;33m\u001b[0m\u001b[0m\n\u001b[0m\u001b[0;32m     77\u001b[0m         \u001b[0mself\u001b[0m\u001b[1;33m.\u001b[0m\u001b[0mposition\u001b[0m \u001b[1;33m=\u001b[0m \u001b[0mfuture_position\u001b[0m\u001b[1;33m\u001b[0m\u001b[1;33m\u001b[0m\u001b[0m\n\u001b[0;32m     78\u001b[0m \u001b[1;33m\u001b[0m\u001b[0m\n",
      "\u001b[1;32m~\\Documents\\GitHub\\znd-remote-controller\\Steppers.py\u001b[0m in \u001b[0;36mquery\u001b[1;34m(self, command)\u001b[0m\n\u001b[0;32m     82\u001b[0m     \u001b[1;32mdef\u001b[0m \u001b[0mquery\u001b[0m\u001b[1;33m(\u001b[0m\u001b[0mself\u001b[0m\u001b[1;33m,\u001b[0m \u001b[0mcommand\u001b[0m\u001b[1;33m:\u001b[0m \u001b[0mstr\u001b[0m\u001b[1;33m)\u001b[0m\u001b[1;33m:\u001b[0m\u001b[1;33m\u001b[0m\u001b[1;33m\u001b[0m\u001b[0m\n\u001b[0;32m     83\u001b[0m         \u001b[0mself\u001b[0m\u001b[1;33m.\u001b[0m\u001b[0mwrite\u001b[0m\u001b[1;33m(\u001b[0m\u001b[0mcommand\u001b[0m\u001b[1;33m)\u001b[0m\u001b[1;33m\u001b[0m\u001b[1;33m\u001b[0m\u001b[0m\n\u001b[1;32m---> 84\u001b[1;33m         \u001b[1;32mreturn\u001b[0m \u001b[0mself\u001b[0m\u001b[1;33m.\u001b[0m\u001b[0mread\u001b[0m\u001b[1;33m(\u001b[0m\u001b[1;33m)\u001b[0m\u001b[1;33m\u001b[0m\u001b[1;33m\u001b[0m\u001b[0m\n\u001b[0m\u001b[0;32m     85\u001b[0m \u001b[1;33m\u001b[0m\u001b[0m\n\u001b[0;32m     86\u001b[0m     \u001b[1;32mdef\u001b[0m \u001b[0mread\u001b[0m\u001b[1;33m(\u001b[0m\u001b[0mself\u001b[0m\u001b[1;33m)\u001b[0m\u001b[1;33m:\u001b[0m\u001b[1;33m\u001b[0m\u001b[1;33m\u001b[0m\u001b[0m\n",
      "\u001b[1;32m~\\Documents\\GitHub\\znd-remote-controller\\Steppers.py\u001b[0m in \u001b[0;36mread\u001b[1;34m(self)\u001b[0m\n\u001b[0;32m     87\u001b[0m         \u001b[0mdata\u001b[0m \u001b[1;33m=\u001b[0m \u001b[1;34m''\u001b[0m\u001b[1;33m\u001b[0m\u001b[1;33m\u001b[0m\u001b[0m\n\u001b[0;32m     88\u001b[0m         \u001b[1;32mwhile\u001b[0m \u001b[1;32mTrue\u001b[0m\u001b[1;33m:\u001b[0m\u001b[1;33m\u001b[0m\u001b[1;33m\u001b[0m\u001b[0m\n\u001b[1;32m---> 89\u001b[1;33m             \u001b[0mline\u001b[0m \u001b[1;33m=\u001b[0m \u001b[0mself\u001b[0m\u001b[1;33m.\u001b[0m\u001b[0marduino\u001b[0m\u001b[1;33m.\u001b[0m\u001b[0mreadline\u001b[0m\u001b[1;33m(\u001b[0m\u001b[1;33m)\u001b[0m\u001b[1;33m.\u001b[0m\u001b[0mdecode\u001b[0m\u001b[1;33m(\u001b[0m\u001b[1;34m'utf-8'\u001b[0m\u001b[1;33m)\u001b[0m\u001b[1;33m\u001b[0m\u001b[1;33m\u001b[0m\u001b[0m\n\u001b[0m\u001b[0;32m     90\u001b[0m             \u001b[1;32mif\u001b[0m \u001b[0mline\u001b[0m \u001b[1;33m==\u001b[0m \u001b[1;34m''\u001b[0m\u001b[1;33m:\u001b[0m\u001b[1;33m\u001b[0m\u001b[1;33m\u001b[0m\u001b[0m\n\u001b[0;32m     91\u001b[0m                 \u001b[1;32mbreak\u001b[0m\u001b[1;33m\u001b[0m\u001b[1;33m\u001b[0m\u001b[0m\n",
      "\u001b[1;31mUnicodeDecodeError\u001b[0m: 'utf-8' codec can't decode byte 0xf6 in position 2: invalid start byte"
     ]
    }
   ],
   "source": [
    "b_scan(0, 500, steppers, instrument, 4, 0, 0)"
   ]
  },
  {
   "cell_type": "code",
   "execution_count": null,
   "id": "3117ac97",
   "metadata": {},
   "outputs": [],
   "source": [
    "# c_scan(0, 500, 0, 800, steppers, instrument, 50, 0)"
   ]
  },
  {
   "cell_type": "code",
   "execution_count": 13,
   "id": "perfect-canadian",
   "metadata": {},
   "outputs": [],
   "source": [
    "steppers.go_home()"
   ]
  }
 ],
 "metadata": {
  "kernelspec": {
   "display_name": "Python 3",
   "language": "python",
   "name": "python3"
  },
  "language_info": {
   "codemirror_mode": {
    "name": "ipython",
    "version": 3
   },
   "file_extension": ".py",
   "mimetype": "text/x-python",
   "name": "python",
   "nbconvert_exporter": "python",
   "pygments_lexer": "ipython3",
   "version": "3.8.7"
  }
 },
 "nbformat": 4,
 "nbformat_minor": 5
}
