{
 "cells": [
  {
   "cell_type": "code",
   "execution_count": 1,
   "id": "worse-pledge",
   "metadata": {},
   "outputs": [],
   "source": [
    "from Instrument import Instrument\n",
    "import string\n",
    "import random\n",
    "import Types\n",
    "from time import sleep"
   ]
  },
  {
   "cell_type": "markdown",
   "id": "absolute-appointment",
   "metadata": {},
   "source": [
    "# This notebook is used for testing ZND-RC functionality"
   ]
  },
  {
   "cell_type": "markdown",
   "id": "cutting-manchester",
   "metadata": {},
   "source": [
    "## Connection"
   ]
  },
  {
   "cell_type": "code",
   "execution_count": 2,
   "id": "alternative-advocacy",
   "metadata": {},
   "outputs": [
    {
     "name": "stdout",
     "output_type": "stream",
     "text": [
      "\n",
      "Hello, I am: 'Rohde-Schwarz,ZND-2Port,1328517092100889,2.80'\n",
      "RsInstrument driver version: 1.9.0.52\n",
      "Visa manufacturer: Rohde & Schwarz GmbH\n",
      "Instrument full name: ZND-2Port\n",
      "Instrument installed options: K1,K6\n"
     ]
    }
   ],
   "source": [
    "resource_string = 'TCPIP::192.168.0.169::hislip0'\n",
    "instrument = Instrument(resource_string)\n",
    "instrument.greet()"
   ]
  },
  {
   "cell_type": "markdown",
   "id": "freelance-handle",
   "metadata": {},
   "source": [
    "## Instrument Settings"
   ]
  },
  {
   "cell_type": "code",
   "execution_count": 3,
   "id": "delayed-george",
   "metadata": {},
   "outputs": [],
   "source": [
    "instrument.reset()"
   ]
  },
  {
   "cell_type": "code",
   "execution_count": 4,
   "id": "several-treasury",
   "metadata": {},
   "outputs": [],
   "source": [
    "instrument.set_visa_timeout = 3000"
   ]
  },
  {
   "cell_type": "code",
   "execution_count": 5,
   "id": "blocked-inflation",
   "metadata": {},
   "outputs": [],
   "source": [
    "instrument.set_status_checking = True"
   ]
  },
  {
   "cell_type": "markdown",
   "id": "circular-desktop",
   "metadata": {},
   "source": [
    "## Correction"
   ]
  },
  {
   "cell_type": "code",
   "execution_count": 6,
   "id": "inside-surname",
   "metadata": {},
   "outputs": [],
   "source": [
    "instrument.correction_load(1, 'N.cal')"
   ]
  },
  {
   "cell_type": "code",
   "execution_count": 7,
   "id": "resistant-filter",
   "metadata": {},
   "outputs": [
    {
     "data": {
      "text/plain": [
       "\"'CAI'\""
      ]
     },
     "execution_count": 7,
     "metadata": {},
     "output_type": "execute_result"
    }
   ],
   "source": [
    "instrument.correction_state()"
   ]
  },
  {
   "cell_type": "markdown",
   "id": "appropriate-audio",
   "metadata": {},
   "source": [
    "## Traces"
   ]
  },
  {
   "cell_type": "code",
   "execution_count": 8,
   "id": "imposed-female",
   "metadata": {},
   "outputs": [],
   "source": [
    "instrument.trace_create(1, 'MainTrace', 'S11')"
   ]
  },
  {
   "cell_type": "code",
   "execution_count": 9,
   "id": "fundamental-cooperation",
   "metadata": {},
   "outputs": [],
   "source": [
    "instrument.trace_assign_to_window(1, 2, 'MainTrace')"
   ]
  },
  {
   "cell_type": "code",
   "execution_count": 10,
   "id": "temporal-healing",
   "metadata": {},
   "outputs": [],
   "source": [
    "instrument.trace_rename(2, 'MainTraceRenamed')"
   ]
  },
  {
   "cell_type": "code",
   "execution_count": 11,
   "id": "incorrect-attitude",
   "metadata": {},
   "outputs": [],
   "source": [
    "instrument.trace_set_points(1, 1000)"
   ]
  },
  {
   "cell_type": "code",
   "execution_count": 12,
   "id": "coordinate-track",
   "metadata": {},
   "outputs": [],
   "source": [
    "instrument.trace_copy('MemoryTrace', 'Trc1')"
   ]
  },
  {
   "cell_type": "code",
   "execution_count": 13,
   "id": "standing-yemen",
   "metadata": {},
   "outputs": [],
   "source": [
    "instrument.trace_assign_to_window(1, 3, 'MemoryTrace')"
   ]
  },
  {
   "cell_type": "code",
   "execution_count": 14,
   "id": "regulated-builder",
   "metadata": {},
   "outputs": [],
   "source": [
    "# generate save path of all traces\n",
    "random_name = ''.join(random.choice(string.ascii_lowercase) for i in range(10)) \n",
    "save_path = r'C:\\Users\\Instrument\\Desktop\\test\\{}.dat'.format(random_name)\n",
    "# wait for a second \n",
    "# manual waiting like this should be avoided, instead, make sure trace is complete by initiating sweep\n",
    "instrument.trace_save_all(1, save_path, \n",
    "                           formatted=True, \n",
    "                           save_format=Types.SaveFormat.COMPLEX, \n",
    "                           dec_separator=Types.DecimalSeparator.POINT, \n",
    "                           field_separator=Types.FieldSeparator.SEMICOLON)"
   ]
  },
  {
   "cell_type": "markdown",
   "id": "dress-bench",
   "metadata": {},
   "source": [
    "## Sweep"
   ]
  },
  {
   "cell_type": "code",
   "execution_count": null,
   "id": "understood-matrix",
   "metadata": {},
   "outputs": [],
   "source": [
    "sweep_set_mode(1, Types.SweepMode.CONTINUOUS)"
   ]
  },
  {
   "cell_type": "code",
   "execution_count": null,
   "id": "directed-transfer",
   "metadata": {},
   "outputs": [],
   "source": [
    "sweep_set_mode_all(Types.SweepMode.SINGLE)"
   ]
  },
  {
   "cell_type": "code",
   "execution_count": null,
   "id": "piano-inspection",
   "metadata": {},
   "outputs": [],
   "source": [
    "sweep_initiate(1)"
   ]
  },
  {
   "cell_type": "code",
   "execution_count": null,
   "id": "overhead-politics",
   "metadata": {},
   "outputs": [],
   "source": [
    "sweep_initiate_all()"
   ]
  },
  {
   "cell_type": "markdown",
   "id": "social-mailman",
   "metadata": {},
   "source": [
    "## Display"
   ]
  },
  {
   "cell_type": "code",
   "execution_count": 15,
   "id": "surgical-liverpool",
   "metadata": {
    "scrolled": true
   },
   "outputs": [],
   "source": [
    "instrument.display_set_mode(Types.DisplayMode.OFF)"
   ]
  },
  {
   "cell_type": "code",
   "execution_count": 16,
   "id": "moderate-western",
   "metadata": {},
   "outputs": [],
   "source": [
    "instrument.display_set_mode(Types.DisplayMode.ON)"
   ]
  },
  {
   "cell_type": "markdown",
   "id": "cooked-dutch",
   "metadata": {},
   "source": [
    "## Touchscreen"
   ]
  },
  {
   "cell_type": "code",
   "execution_count": 17,
   "id": "corresponding-statement",
   "metadata": {},
   "outputs": [],
   "source": [
    "instrument.touchscreen_set_lock(Types.TSLockMode.OFF)"
   ]
  },
  {
   "cell_type": "code",
   "execution_count": 18,
   "id": "resistant-jersey",
   "metadata": {},
   "outputs": [],
   "source": [
    "instrument.window_create(2)"
   ]
  },
  {
   "cell_type": "code",
   "execution_count": 19,
   "id": "indonesian-western",
   "metadata": {},
   "outputs": [],
   "source": [
    "instrument.window_remove(2)"
   ]
  },
  {
   "cell_type": "markdown",
   "id": "verified-tribute",
   "metadata": {},
   "source": [
    "## Buttons"
   ]
  },
  {
   "cell_type": "code",
   "execution_count": 20,
   "id": "referenced-manufacturer",
   "metadata": {},
   "outputs": [],
   "source": [
    "instrument.button_define(Types.ButtonNumber.ONE, \"Say Hello\", lambda: print(\"Hello World!\"))\n",
    "instrument.button_define(Types.ButtonNumber.TWO, \"Say Bye\", lambda: print(\"Bye World!\"))"
   ]
  },
  {
   "cell_type": "code",
   "execution_count": 21,
   "id": "impressive-championship",
   "metadata": {},
   "outputs": [
    {
     "name": "stdout",
     "output_type": "stream",
     "text": [
      "Hello World!\n",
      "Bye World!\n"
     ]
    }
   ],
   "source": [
    "# pressing \"Say Hello\" button on the touchscreen will print \"Hello World!\" here\n",
    "# pressing \"Say Bye\" button on the touchscreen will print \"Bye World!\" here\n",
    "instrument.button_start_listening()"
   ]
  },
  {
   "cell_type": "code",
   "execution_count": 22,
   "id": "entertaining-massage",
   "metadata": {
    "collapsed": true
   },
   "outputs": [],
   "source": [
    "instrument.button_stop_listening()"
   ]
  },
  {
   "cell_type": "markdown",
   "id": "increased-breakfast",
   "metadata": {},
   "source": [
    "## Transferring Files"
   ]
  },
  {
   "cell_type": "code",
   "execution_count": 1,
   "id": "combined-throat",
   "metadata": {},
   "outputs": [],
   "source": [
    "# transfer_to_instrument(source, destination)"
   ]
  },
  {
   "cell_type": "code",
   "execution_count": 2,
   "id": "persistent-stable",
   "metadata": {},
   "outputs": [],
   "source": [
    "# transfer_from_instrument(source, destination)"
   ]
  }
 ],
 "metadata": {
  "kernelspec": {
   "display_name": "Python 3",
   "language": "python",
   "name": "python3"
  },
  "language_info": {
   "codemirror_mode": {
    "name": "ipython",
    "version": 3
   },
   "file_extension": ".py",
   "mimetype": "text/x-python",
   "name": "python",
   "nbconvert_exporter": "python",
   "pygments_lexer": "ipython3",
   "version": "3.8.7"
  }
 },
 "nbformat": 4,
 "nbformat_minor": 5
}
