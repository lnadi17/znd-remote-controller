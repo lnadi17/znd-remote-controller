{
 "cells": [
  {
   "cell_type": "markdown",
   "id": "statistical-robert",
   "metadata": {},
   "source": [
    "# This notebook stores useful code blocks for ZND Remote Control"
   ]
  },
  {
   "cell_type": "code",
   "execution_count": 1,
   "id": "living-concrete",
   "metadata": {},
   "outputs": [],
   "source": [
    "from Instrument import Instrument\n",
    "from datetime import datetime\n",
    "import Types\n",
    "from time import sleep"
   ]
  },
  {
   "cell_type": "code",
   "execution_count": 2,
   "id": "enormous-october",
   "metadata": {},
   "outputs": [
    {
     "name": "stdout",
     "output_type": "stream",
     "text": [
      "\n",
      "Hello, I am: 'Rohde-Schwarz,ZND-2Port,1328517092100889,2.80'\n",
      "RsInstrument driver version: 1.9.0.52\n",
      "Visa manufacturer: Rohde & Schwarz GmbH\n",
      "Instrument full name: ZND-2Port\n",
      "Instrument installed options: K1,K6\n"
     ]
    }
   ],
   "source": [
    "# connect to the instrument\n",
    "resource_string = 'TCPIP::192.168.0.169::hislip0'\n",
    "instrument = Instrument(resource_string)\n",
    "instrument.greet()"
   ]
  },
  {
   "cell_type": "code",
   "execution_count": 2,
   "id": "compressed-emerald",
   "metadata": {},
   "outputs": [],
   "source": [
    "def index_sequence(start_index):\n",
    "    index = start_index\n",
    "    while True:\n",
    "        yield index\n",
    "        index += 1"
   ]
  },
  {
   "cell_type": "code",
   "execution_count": 3,
   "id": "dirty-electron",
   "metadata": {},
   "outputs": [],
   "source": [
    "def measure():\n",
    "    instrument.sweep_initiate_all()\n",
    "    print(\"measured\")"
   ]
  },
  {
   "cell_type": "code",
   "execution_count": 4,
   "id": "loving-palestinian",
   "metadata": {},
   "outputs": [],
   "source": [
    "def memorize():\n",
    "    mem_trace_name = f'MemoryTrace{next(mem_index_gen)}'\n",
    "    instrument.trace_copy('MainTrace', mem_trace_name)\n",
    "    instrument.trace_assign_to_window(1, next(trc_index_gen), mem_trace_name)"
   ]
  },
  {
   "cell_type": "code",
   "execution_count": 5,
   "id": "external-script",
   "metadata": {},
   "outputs": [],
   "source": [
    "def export():\n",
    "    save_path = r'C:\\Users\\Instrument\\Desktop\\Data\\Measurement_{}.dat'.format(str(datetime.now().strftime(\"%b-%d-%Y_%H:%M:%S\")))\n",
    "    instrument.trace_save_all(1, save_path,\n",
    "                             formatted=True,\n",
    "                             save_format=Types.SaveFormat.COMPLEX,\n",
    "                             dec_separator=Types.DecimalSeparator.POINT,\n",
    "                             field_separator=Types.FieldSeparator.SEMICOLON)"
   ]
  },
  {
   "cell_type": "code",
   "execution_count": 7,
   "id": "infectious-standard",
   "metadata": {},
   "outputs": [],
   "source": [
    "def clear():\n",
    "    instrument.trace_delete_all()\n",
    "    instrument.trace_create(1, 'MainTrace', 'S21')\n",
    "    instrument.trace_assign_to_window(1, 1, 'MainTrace')\n",
    "    mem_index_gen = index_sequence(1)\n",
    "    trc_index_gen = index_sequence(2)"
   ]
  },
  {
   "cell_type": "code",
   "execution_count": 14,
   "id": "constant-convert",
   "metadata": {},
   "outputs": [],
   "source": [
    "# set up the instrument\n",
    "instrument.reset()\n",
    "sleep(1)\n",
    "instrument.sweep_set_mode(1, Types.SweepMode.SINGLE)\n",
    "instrument.trace_rename(1, 'MainTrace')\n",
    "# TODO: set trace points to 1000\n",
    "# TODO: set timeouts\n",
    "# TODO: set calibration data\n",
    "# TODO: set display mode\n",
    "mem_index_gen = index_sequence(1)\n",
    "trc_index_gen = index_sequence(2)"
   ]
  },
  {
   "cell_type": "code",
   "execution_count": 21,
   "id": "anticipated-kelly",
   "metadata": {},
   "outputs": [],
   "source": [
    "# define buttons for manual control\n",
    "instrument.button_define(Types.ButtonNumber.ONE, \"Measure\", measure)\n",
    "instrument.button_define(Types.ButtonNumber.TWO, \"Memorize\", memorize)\n",
    "instrument.button_define(Types.ButtonNumber.THREE, \"Export\", export)\n",
    "instrument.button_define(Types.ButtonNumber.FOUR, \"Clear\", clear)\n",
    "instrument.button_start_listening()"
   ]
  }
 ],
 "metadata": {
  "kernelspec": {
   "display_name": "Python 3",
   "language": "python",
   "name": "python3"
  },
  "language_info": {
   "codemirror_mode": {
    "name": "ipython",
    "version": 3
   },
   "file_extension": ".py",
   "mimetype": "text/x-python",
   "name": "python",
   "nbconvert_exporter": "python",
   "pygments_lexer": "ipython3",
   "version": "3.8.7"
  }
 },
 "nbformat": 4,
 "nbformat_minor": 5
}
