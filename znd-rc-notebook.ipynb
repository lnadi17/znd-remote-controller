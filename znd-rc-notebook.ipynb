{
 "cells": [
  {
   "cell_type": "markdown",
   "id": "statistical-robert",
   "metadata": {},
   "source": [
    "# This notebook stores useful code blocks for ZND Remote Control"
   ]
  },
  {
   "cell_type": "markdown",
   "id": "royal-hardware",
   "metadata": {},
   "source": [
    "## Manual Control\n",
    "Add buttons on touchscreen to enable manual measuring, memorizing sweeps, clearing them, or exporting them all at once."
   ]
  },
  {
   "cell_type": "code",
   "execution_count": null,
   "id": "living-concrete",
   "metadata": {},
   "outputs": [],
   "source": [
    "from Instrument import Instrument\n",
    "from datetime import datetime\n",
    "import Types\n",
    "from time import sleep"
   ]
  },
  {
   "cell_type": "code",
   "execution_count": null,
   "id": "enormous-october",
   "metadata": {},
   "outputs": [],
   "source": [
    "# connect to the instrument\n",
    "resource_string = 'TCPIP::192.168.0.169::hislip0'\n",
    "instrument = Instrument(resource_string)\n",
    "instrument.greet()"
   ]
  },
  {
   "cell_type": "code",
   "execution_count": null,
   "id": "compressed-emerald",
   "metadata": {},
   "outputs": [],
   "source": [
    "def index_sequence(start_index):\n",
    "    index = start_index\n",
    "    while True:\n",
    "        yield index\n",
    "        index += 1"
   ]
  },
  {
   "cell_type": "code",
   "execution_count": null,
   "id": "dirty-electron",
   "metadata": {},
   "outputs": [],
   "source": [
    "def measure():\n",
    "    instrument.sweep_initiate_all()"
   ]
  },
  {
   "cell_type": "code",
   "execution_count": null,
   "id": "loving-palestinian",
   "metadata": {},
   "outputs": [],
   "source": [
    "def memorize():\n",
    "    mem_trace_name = f'MemoryTrace{next(mem_index_gen)}'\n",
    "    instrument.trace_copy(mem_trace_name, 'MainTrace')\n",
    "    instrument.trace_assign_to_window(1, next(trc_index_gen), mem_trace_name)"
   ]
  },
  {
   "cell_type": "code",
   "execution_count": null,
   "id": "external-script",
   "metadata": {},
   "outputs": [],
   "source": [
    "def export():\n",
    "    save_path = r'C:\\Users\\Instrument\\Desktop\\Data\\Manual_{}.dat'.format(str(datetime.now().strftime(\"%b-%d-%Y_%H-%M-%S\")))\n",
    "    instrument.trace_save_all(1, save_path,\n",
    "                             formatted=True,\n",
    "                             save_format=Types.SaveFormat.COMPLEX,\n",
    "                             dec_separator=Types.DecimalSeparator.POINT,\n",
    "                             field_separator=Types.FieldSeparator.SEMICOLON)"
   ]
  },
  {
   "cell_type": "code",
   "execution_count": null,
   "id": "infectious-standard",
   "metadata": {},
   "outputs": [],
   "source": [
    "def clear():\n",
    "    global mem_index_gen, trc_index_gen\n",
    "    instrument.trace_delete_all()\n",
    "    instrument.trace_create(1, 'MainTrace', 'S21')\n",
    "    instrument.trace_assign_to_window(1, 1, 'MainTrace')\n",
    "    instrument.trace_format(1, Types.TraceFormat.LINEAR)\n",
    "    instrument.sweep_initiate_all()\n",
    "    instrument.trace_scale_auto(1)\n",
    "    mem_index_gen = index_sequence(1)\n",
    "    trc_index_gen = index_sequence(2)"
   ]
  },
  {
   "cell_type": "code",
   "execution_count": null,
   "id": "constant-convert",
   "metadata": {},
   "outputs": [],
   "source": [
    "# set up the instrument\n",
    "instrument.reset()\n",
    "instrument.trace_format(1, Types.TraceFormat.LINEAR)\n",
    "instrument.trace_rename(1, 'MainTrace')\n",
    "instrument.correction_load(1, 'SMA Ideal.cal')\n",
    "instrument.trace_set_points(1, 1000)\n",
    "instrument.sweep_set_mode(1, Types.SweepMode.SINGLE)\n",
    "instrument.sweep_initiate_all()\n",
    "instrument.trace_scale_auto(1)\n",
    "# TODO: set trace points to 1000 *\n",
    "# TODO: set timeouts\n",
    "# TODO: set calibration data *\n",
    "# TODO: set display mode \n",
    "# TODO: set trace format *\n",
    "mem_index_gen = index_sequence(1)\n",
    "trc_index_gen = index_sequence(2)"
   ]
  },
  {
   "cell_type": "code",
   "execution_count": null,
   "id": "anticipated-kelly",
   "metadata": {},
   "outputs": [],
   "source": [
    "# define buttons for manual control\n",
    "instrument.button_define(Types.ButtonNumber.ONE, \"Measure\", measure)\n",
    "instrument.button_define(Types.ButtonNumber.TWO, \"Memorize\", memorize)\n",
    "instrument.button_define(Types.ButtonNumber.THREE, \"Export\", export)\n",
    "instrument.button_define(Types.ButtonNumber.FOUR, \"Clear\", clear)\n",
    "instrument.button_start_listening()"
   ]
  },
  {
   "cell_type": "markdown",
   "id": "extensive-employment",
   "metadata": {},
   "source": [
    "## Autopilot\n",
    "Configure instrument and sweep every **sleep_time** seconds, total of **export_length** times, measuring S21 parameter of the antenna and saving it in \"Data\" folder on Desktop. Output has complex format. Process can be paused, resumed or stopped using buttons on the touchscreen."
   ]
  },
  {
   "cell_type": "code",
   "execution_count": null,
   "id": "based-browser",
   "metadata": {},
   "outputs": [],
   "source": [
    "from Instrument import Instrument\n",
    "from datetime import datetime\n",
    "import Types\n",
    "from time import sleep"
   ]
  },
  {
   "cell_type": "code",
   "execution_count": null,
   "id": "written-study",
   "metadata": {},
   "outputs": [],
   "source": [
    "# connect to the instrument\n",
    "resource_string = 'TCPIP::192.168.0.169::hislip0'\n",
    "instrument = Instrument(resource_string)\n",
    "instrument.greet()"
   ]
  },
  {
   "cell_type": "code",
   "execution_count": null,
   "id": "proprietary-pipeline",
   "metadata": {},
   "outputs": [],
   "source": [
    "def index_sequence(start_index):\n",
    "    index = start_index\n",
    "    while True:\n",
    "        yield index\n",
    "        index += 1"
   ]
  },
  {
   "cell_type": "code",
   "execution_count": null,
   "id": "religious-doctor",
   "metadata": {},
   "outputs": [],
   "source": [
    "paused = False\n",
    "stopped = False\n",
    "\n",
    "def pause():\n",
    "    global paused\n",
    "    paused = True\n",
    "    \n",
    "def resume():\n",
    "    global paused\n",
    "    paused = False\n",
    "    \n",
    "def stop():\n",
    "    global stopped\n",
    "    stopped = True"
   ]
  },
  {
   "cell_type": "code",
   "execution_count": null,
   "id": "standard-turtle",
   "metadata": {},
   "outputs": [],
   "source": [
    "# add pause and resume buttons\n",
    "instrument.button_define(Types.ButtonNumber.ONE, \"Pause\", pause)\n",
    "instrument.button_define(Types.ButtonNumber.TWO, \"Resume\", resume)\n",
    "instrument.button_define(Types.ButtonNumber.THREE, \"Stop\", stop)"
   ]
  },
  {
   "cell_type": "code",
   "execution_count": null,
   "id": "amateur-morocco",
   "metadata": {},
   "outputs": [],
   "source": [
    "# set up the instrument\n",
    "instrument.reset()\n",
    "instrument.trace_format(1, Types.TraceFormat.SMITH)\n",
    "instrument.trace_rename(1, 'MainTrace')\n",
    "instrument.correction_load(1, 'SMA Ideal.cal')\n",
    "instrument.trace_set_points(1, 1000)\n",
    "instrument.sweep_set_mode(1, Types.SweepMode.SINGLE)\n",
    "instrument.display_set_mode(Types.DisplayMode.OFF) # comment this for debugging\n",
    "instrument.sweep_initiate_all()\n",
    "instrument.trace_scale_auto(1)\n",
    "mem_index_gen = index_sequence(1)\n",
    "trc_index_gen = index_sequence(2)"
   ]
  },
  {
   "cell_type": "code",
   "execution_count": null,
   "id": "military-promotion",
   "metadata": {},
   "outputs": [],
   "source": [
    "# write autopilot loop\n",
    "export_length = 50\n",
    "sleep_time = 500e-3\n",
    "\n",
    "while True:\n",
    "    if stopped:\n",
    "        break\n",
    "    if paused:\n",
    "        continue\n",
    "    \n",
    "    for _ in range(export_length - 1):\n",
    "        instrument.sweep_initiate_all()\n",
    "        mem_trace_name = f'MemoryTrace{next(mem_index_gen)}'\n",
    "        instrument.trace_copy(mem_trace_name, 'MainTrace')\n",
    "        # instrument.trace_assign_to_window(1, next(trc_index_gen), mem_trace_name) # uncomment this for debugging\n",
    "        sleep(sleep_time)\n",
    "    instrument.sweep_initiate_all()\n",
    "        \n",
    "    save_path = r'C:\\Users\\Instrument\\Desktop\\Data\\Auto_{}.dat'.format(str(datetime.now().strftime(\"%b-%d-%Y_%H-%M-%S\")))\n",
    "    instrument.trace_save_all(1, save_path,\n",
    "                             formatted=True,\n",
    "                             save_format=Types.SaveFormat.COMPLEX,\n",
    "                             dec_separator=Types.DecimalSeparator.POINT,\n",
    "                             field_separator=Types.FieldSeparator.SEMICOLON)\n",
    "    \n",
    "    instrument.trace_delete_all()\n",
    "    instrument.trace_create(1, 'MainTrace', 'S21')\n",
    "    # instrument.trace_assign_to_window(1, 1, 'MainTrace') # uncomment this for debugging\n",
    "    instrument.trace_format(1, Types.TraceFormat.SMITH)\n",
    "    instrument.sweep_initiate_all()\n",
    "    instrument.trace_scale_auto(1)\n",
    "    mem_index_gen = index_sequence(1)\n",
    "    trc_index_gen = index_sequence(2)"
   ]
  },
  {
   "cell_type": "markdown",
   "id": "considered-valve",
   "metadata": {},
   "source": [
    "## Steppers"
   ]
  },
  {
   "cell_type": "code",
   "execution_count": null,
   "id": "adult-bulletin",
   "metadata": {},
   "outputs": [],
   "source": [
    "from Steppers import Steppers\n",
    "from time import sleep"
   ]
  },
  {
   "cell_type": "code",
   "execution_count": null,
   "id": "hydraulic-frank",
   "metadata": {},
   "outputs": [],
   "source": [
    "steppers = Steppers()"
   ]
  },
  {
   "cell_type": "code",
   "execution_count": null,
   "id": "exceptional-puzzle",
   "metadata": {},
   "outputs": [],
   "source": [
    "steppers.release()\n",
    "steppers.attach()\n",
    "steppers.set_home()\n",
    "steppers.set_ignore_bounds(True)\n",
    "steppers.move(10, 0)\n",
    "steppers.set_max()"
   ]
  },
  {
   "cell_type": "code",
   "execution_count": null,
   "id": "forty-drinking",
   "metadata": {},
   "outputs": [],
   "source": [
    "steppers.move(1, 1)\n",
    "sleep(1)\n",
    "steppers.move(-1, -1)\n",
    "sleep(1)\n",
    "steppers.set_position(5, 5)\n",
    "sleep(1)\n",
    "steppers.home()\n",
    "sleep(1)"
   ]
  },
  {
   "cell_type": "code",
   "execution_count": null,
   "id": "simplified-lyric",
   "metadata": {},
   "outputs": [],
   "source": [
    "steppers.get_position()"
   ]
  },
  {
   "cell_type": "code",
   "execution_count": null,
   "id": "homeless-mercury",
   "metadata": {
    "pycharm": {
     "name": "#%%\n"
    }
   },
   "outputs": [],
   "source": [
    "steppers.move(10, 10)\n",
    "steppers.set_home()\n",
    "steppers.set_position(0, 0)\n",
    "steppers.set_home()"
   ]
  }
 ],
 "metadata": {
  "kernelspec": {
   "display_name": "Python 3",
   "language": "python",
   "name": "python3"
  },
  "language_info": {
   "codemirror_mode": {
    "name": "ipython",
    "version": 3
   },
   "file_extension": ".py",
   "mimetype": "text/x-python",
   "name": "python",
   "nbconvert_exporter": "python",
   "pygments_lexer": "ipython3",
   "version": "3.8.7"
  }
 },
 "nbformat": 4,
 "nbformat_minor": 5
}