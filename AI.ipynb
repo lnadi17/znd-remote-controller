{
 "cells": [
  {
   "cell_type": "code",
   "execution_count": 49,
   "id": "e01d3d3e",
   "metadata": {},
   "outputs": [],
   "source": [
    "import os\n",
    "import numpy as np\n",
    "from matplotlib import pyplot as plt\n",
    "from sklearn.linear_model import LogisticRegression\n",
    "from sklearn.model_selection import train_test_split, RandomizedSearchCV\n",
    "from sklearn.metrics import classification_report, confusion_matrix, precision_recall_curve\n",
    "import scipy.stats as st\n",
    "import pandas as pd"
   ]
  },
  {
   "cell_type": "code",
   "execution_count": 87,
   "id": "f936775f",
   "metadata": {},
   "outputs": [],
   "source": [
    "def draw_image(scan, cmap=None, aspect=None, interpolation=None, figsize=None, start_y=0, delta_w=7e9):\n",
    "    plt.figure(figsize=figsize)\n",
    "    plt.imshow(np.array(scan).transpose()[start_y:], cmap=cmap, aspect=aspect, interpolation=interpolation)"
   ]
  },
  {
   "cell_type": "code",
   "execution_count": 78,
   "id": "39d93732",
   "metadata": {},
   "outputs": [],
   "source": [
    "def get_abs_values(array):\n",
    "    rows = []\n",
    "    for i in range(0, len(array)):\n",
    "        rows.append(abs(array[i]))\n",
    "    return rows"
   ]
  },
  {
   "cell_type": "code",
   "execution_count": 84,
   "id": "4921a6e1",
   "metadata": {},
   "outputs": [],
   "source": [
    "def get_time_domain(array):\n",
    "    rows = []\n",
    "    for i in range(0, len(array)):\n",
    "        rows.append(np.fft.irfft(np.array(array[0])))\n",
    "    return rows"
   ]
  },
  {
   "cell_type": "code",
   "execution_count": 79,
   "id": "4184eae6",
   "metadata": {},
   "outputs": [],
   "source": [
    "def join_as_complex(array):\n",
    "    rows = []\n",
    "    for i in range(0, len(array)):\n",
    "        if i % 2 == 1:\n",
    "            continue\n",
    "        complex_number = array[i] + 1j*array[i+1]\n",
    "        rows.append(complex_number)\n",
    "    return rows"
   ]
  },
  {
   "cell_type": "code",
   "execution_count": 80,
   "id": "89455163",
   "metadata": {},
   "outputs": [],
   "source": [
    "# samples are stored as files with 100 rows in a folder\n",
    "sand_path = 'sixth-scan/sand/parsed/'\n",
    "cybertruck_path = 'sixth-scan/cybertruck/parsed/'"
   ]
  },
  {
   "cell_type": "code",
   "execution_count": null,
   "id": "automatic-franklin",
   "metadata": {
    "scrolled": true
   },
   "outputs": [],
   "source": [
    "# read mined data for machine learning\n",
    "rows = []\n",
    "for file in os.listdir(sand_path):\n",
    "    with open(sand_path + file) as file:\n",
    "        skip = True\n",
    "        for row in np.loadtxt(file, comments='%', delimiter=',').transpose():\n",
    "            if not skip:\n",
    "                rows.append(row)\n",
    "            skip = False\n",
    "\n",
    "complexRows = []\n",
    "for i in range(len(rows)):\n",
    "    complexRows.append(join_as_complex(rows[i]))\n",
    "print(complexRows[0][0])\n",
    "  \n",
    "absComplexRows = []\n",
    "for i in range(len(complexRows)):\n",
    "    absComplexRows.append(get_abs_values(complexRows[i]))\n",
    "print(absComplexRows[0][0])    \n",
    "    \n",
    "timeDomainRows = get_time_domain(rows)\n",
    "draw_image(timeDomainRows[0])\n",
    "    \n",
    "# pd.DataFrame(timeDomainRows)"
   ]
  },
  {
   "cell_type": "code",
   "execution_count": 37,
   "id": "hidden-christmas",
   "metadata": {},
   "outputs": [],
   "source": [
    "# export model\n",
    "pkl_filename = \"pickle_rick_model.pkl\"\n",
    "with open(pkl_filename, 'wb') as file:\n",
    "    pickle.dump(model, file)"
   ]
  }
 ],
 "metadata": {
  "kernelspec": {
   "display_name": "Python 3 (ipykernel)",
   "language": "python",
   "name": "python3"
  },
  "language_info": {
   "codemirror_mode": {
    "name": "ipython",
    "version": 3
   },
   "file_extension": ".py",
   "mimetype": "text/x-python",
   "name": "python",
   "nbconvert_exporter": "python",
   "pygments_lexer": "ipython3",
   "version": "3.11.1"
  }
 },
 "nbformat": 4,
 "nbformat_minor": 5
}
