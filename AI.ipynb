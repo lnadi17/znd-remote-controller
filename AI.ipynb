{
 "cells": [
  {
   "cell_type": "code",
   "execution_count": 1,
   "id": "e01d3d3e",
   "metadata": {},
   "outputs": [],
   "source": [
    "import os\n",
    "import numpy as np\n",
    "from matplotlib import pyplot as plt\n",
    "from sklearn.linear_model import LogisticRegression\n",
    "from sklearn.model_selection import train_test_split, RandomizedSearchCV\n",
    "from sklearn.metrics import classification_report, confusion_matrix, precision_recall_curve\n",
    "import scipy.stats as st"
   ]
  },
  {
   "cell_type": "code",
   "execution_count": 2,
   "id": "4184eae6",
   "metadata": {},
   "outputs": [],
   "source": [
    "def join_as_complex(array):\n",
    "    rows = []\n",
    "    for i in range(0, len(array)):\n",
    "        if i % 2 == 1:\n",
    "            continue\n",
    "        complex_number = array[i] + 1j*array[i+1]\n",
    "        rows.append(abs(complex_number))\n",
    "    return rows"
   ]
  },
  {
   "cell_type": "code",
   "execution_count": 3,
   "id": "c1c95110",
   "metadata": {},
   "outputs": [],
   "source": [
    "root = 'third-scan/parsed/'\n",
    "empty_scans = []\n",
    "buried_scans = []\n",
    "for file in os.listdir(root):\n",
    "    if '.npy' not in file:\n",
    "        continue\n",
    "    if 'Aug-13-2021' in file:\n",
    "        continue\n",
    "    scan = np.loadtxt(root + file, comments='%', delimiter=',').transpose()\n",
    "    for elem in join_as_complex(scan[1:]):\n",
    "        if 'Sand' in file:\n",
    "            empty_scans.append(elem)\n",
    "        else:\n",
    "            buried_scans.append(elem)"
   ]
  },
  {
   "cell_type": "code",
   "execution_count": 4,
   "id": "2e23b17d",
   "metadata": {},
   "outputs": [],
   "source": [
    "august_13 = []\n",
    "for file in os.listdir(root):\n",
    "    if '.npy' not in file:\n",
    "        continue\n",
    "    if 'Aug-13-2021' in file:\n",
    "        scan = np.loadtxt(root + file, comments='%', delimiter=',').transpose()\n",
    "        for elem in join_as_complex(scan[1:]):\n",
    "            august_13.append(elem)"
   ]
  },
  {
   "cell_type": "code",
   "execution_count": 5,
   "id": "3e7f5efd",
   "metadata": {
    "scrolled": false
   },
   "outputs": [
    {
     "name": "stdout",
     "output_type": "stream",
     "text": [
      "1000\n",
      "5200\n"
     ]
    }
   ],
   "source": [
    "print(len(empty_scans[0]))\n",
    "print(len(buried_scans))"
   ]
  },
  {
   "cell_type": "code",
   "execution_count": 6,
   "id": "37b33e1c",
   "metadata": {},
   "outputs": [
    {
     "name": "stdout",
     "output_type": "stream",
     "text": [
      "6000\n",
      "5200\n"
     ]
    }
   ],
   "source": [
    "sand = empty_scans\n",
    "buried = buried_scans\n",
    "print(len(sand))\n",
    "print(len(buried))"
   ]
  },
  {
   "cell_type": "code",
   "execution_count": 7,
   "id": "f9cb07f1",
   "metadata": {},
   "outputs": [],
   "source": [
    "X = np.concatenate((sand, buried))\n",
    "Y = [0] * len(sand) + [1] * (len(buried) - 1"
   ]
  },
  {
   "cell_type": "code",
   "execution_count": 8,
   "id": "8bf837cc",
   "metadata": {},
   "outputs": [],
   "source": [
    "model = LogisticRegression(solver='liblinear', penalty='l1', C=100, random_state=42).fit(X, Y)"
   ]
  },
  {
   "cell_type": "code",
   "execution_count": 151,
   "id": "4b0d2ca5",
   "metadata": {},
   "outputs": [],
   "source": [
    "model = LogisticRegression(solver='liblinear', penalty='l1', C=183.9, max_iter=201, random_state=42).fit(X, Y)"
   ]
  },
  {
   "cell_type": "code",
   "execution_count": 9,
   "id": "14995391",
   "metadata": {},
   "outputs": [
    {
     "data": {
      "text/plain": [
       "1.0"
      ]
     },
     "execution_count": 9,
     "metadata": {},
     "output_type": "execute_result"
    }
   ],
   "source": [
    "model.score(X, Y)"
   ]
  },
  {
   "cell_type": "code",
   "execution_count": 16,
   "id": "df8da563",
   "metadata": {},
   "outputs": [
    {
     "data": {
      "text/plain": [
       "0.9622783855149001"
      ]
     },
     "execution_count": 16,
     "metadata": {},
     "output_type": "execute_result"
    }
   ],
   "source": [
    "model.score(august_13, [1] * (len(august_13) - 100) + [0] * 100)"
   ]
  },
  {
   "cell_type": "code",
   "execution_count": 11,
   "id": "7f0808c2",
   "metadata": {},
   "outputs": [
    {
     "data": {
      "text/plain": [
       "array([1, 1, 1, ..., 1, 1, 1])"
      ]
     },
     "execution_count": 11,
     "metadata": {},
     "output_type": "execute_result"
    }
   ],
   "source": [
    "model.predict(august_13)"
   ]
  },
  {
   "cell_type": "code",
   "execution_count": null,
   "id": "3230fc44",
   "metadata": {},
   "outputs": [],
   "source": []
  }
 ],
 "metadata": {
  "kernelspec": {
   "display_name": "Python 3 (ipykernel)",
   "language": "python",
   "name": "python3"
  },
  "language_info": {
   "codemirror_mode": {
    "name": "ipython",
    "version": 3
   },
   "file_extension": ".py",
   "mimetype": "text/x-python",
   "name": "python",
   "nbconvert_exporter": "python",
   "pygments_lexer": "ipython3",
   "version": "3.8.10"
  }
 },
 "nbformat": 4,
 "nbformat_minor": 5
}